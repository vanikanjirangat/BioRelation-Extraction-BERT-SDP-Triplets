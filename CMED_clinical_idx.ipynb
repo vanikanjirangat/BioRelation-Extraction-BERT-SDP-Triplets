{
  "nbformat": 4,
  "nbformat_minor": 0,
  "metadata": {
    "colab": {
      "name": "CMED_clinical_idx.ipynb",
      "provenance": [],
      "collapsed_sections": [],
      "authorship_tag": "ABX9TyOVybdh3Kv9JjrlTYpu0o8c",
      "include_colab_link": true
    },
    "kernelspec": {
      "name": "python3",
      "display_name": "Python 3"
    },
    "language_info": {
      "name": "python"
    },
    "accelerator": "GPU"
  },
  "cells": [
    {
      "cell_type": "markdown",
      "metadata": {
        "id": "view-in-github",
        "colab_type": "text"
      },
      "source": [
        "<a href=\"https://colab.research.google.com/github/vanikanjirangat/BioRelation-Extraction-BERT-SDP-Triplets/blob/master/CMED_clinical_idx.ipynb\" target=\"_parent\"><img src=\"https://colab.research.google.com/assets/colab-badge.svg\" alt=\"Open In Colab\"/></a>"
      ]
    },
    {
      "cell_type": "code",
      "execution_count": null,
      "metadata": {
        "colab": {
          "base_uri": "https://localhost:8080/"
        },
        "id": "LTCE1OzJJoL9",
        "outputId": "49bc52f1-c7dc-4476-8c3e-6b78f3fa6628"
      },
      "outputs": [
        {
          "output_type": "stream",
          "name": "stdout",
          "text": [
            "Mounted at /content/gdrive\n"
          ]
        }
      ],
      "source": [
        "from google.colab import drive\n",
        "drive.mount('/content/gdrive', force_remount=True)\n",
        "root_dir = \"/content/gdrive/My Drive/\""
      ]
    },
    {
      "cell_type": "code",
      "source": [
        "import spacy\n",
        "nlp = spacy.load('en_core_web_sm')"
      ],
      "metadata": {
        "id": "BG0sWpnK2eV3"
      },
      "execution_count": null,
      "outputs": []
    },
    {
      "cell_type": "code",
      "source": [
        "root_dir = \"/content/gdrive/My Drive/CMED_Harvard_Shared_task//trainingdata_v3/\""
      ],
      "metadata": {
        "id": "JVylNswReb6e"
      },
      "execution_count": null,
      "outputs": []
    },
    {
      "cell_type": "code",
      "source": [
        "root_dir = \"/content/gdrive/My Drive/CMED_Harvard_Shared_task//trainingdata_v3/\"\n",
        "import os\n",
        "input_dir=os.path.join(root_dir,'train')"
      ],
      "metadata": {
        "id": "JxTgErC-eE87"
      },
      "execution_count": null,
      "outputs": []
    },
    {
      "cell_type": "code",
      "source": [
        "input_dir"
      ],
      "metadata": {
        "colab": {
          "base_uri": "https://localhost:8080/",
          "height": 35
        },
        "id": "I1Hwt60dedpK",
        "outputId": "e349a44b-a1b5-47c5-bce6-439f94f874b0"
      },
      "execution_count": null,
      "outputs": [
        {
          "output_type": "execute_result",
          "data": {
            "text/plain": [
              "'/content/gdrive/My Drive/CMED_Harvard_Shared_task//trainingdata_v3/train'"
            ],
            "application/vnd.google.colaboratory.intrinsic+json": {
              "type": "string"
            }
          },
          "metadata": {},
          "execution_count": 4
        }
      ]
    },
    {
      "cell_type": "code",
      "source": [
        "root_dir = \"/content/gdrive/My Drive/CMED_Harvard_Shared_task//trainingdata_v3/\"\n",
        "import os\n",
        "input_dir1=os.path.join(root_dir,'dev')"
      ],
      "metadata": {
        "id": "VHcGgOxcrJYA"
      },
      "execution_count": null,
      "outputs": []
    },
    {
      "cell_type": "code",
      "source": [
        "import glob\n",
        "import re\n",
        "items=[]\n",
        "c1=glob.glob(input_dir1+\"/*.ann\")\n",
        "for c in c1:\n",
        "  with open(c) as f1:\n",
        "    p=c.split(\".\")[0]\n",
        "    m=f1.read()\n",
        "    m1=m.split(\"\\n\")\n",
        "    m2=[k.split(\"\\t\") for k in m1]\n",
        "    m3=[(k[0],k[1],k[-1]) for k in m2 if len(k)==3]\n",
        "    spans=[re.findall('\\d+', s[1]) for s in m3]\n",
        "    labels=[re.split('\\d+', s[1])[0] for s in m3]\n",
        "    m4=[(k[0],labels[i],spans[i],k[-1]) for i,k in enumerate(m3)]\n",
        "    items.append((p,m4))"
      ],
      "metadata": {
        "id": "hULF1SXXfuBv"
      },
      "execution_count": null,
      "outputs": []
    },
    {
      "cell_type": "code",
      "source": [
        "txtfiles=[]\n",
        "c2=glob.glob(input_dir1+\"/*.txt\")\n",
        "\n",
        "for c in c2:\n",
        "  with open(c) as f1:\n",
        "    p=c.split(\".\")[0]\n",
        "    text=f1.read()\n",
        "    txtfiles.append((p,text))"
      ],
      "metadata": {
        "id": "lyIvIyvUkeKq"
      },
      "execution_count": null,
      "outputs": []
    },
    {
      "cell_type": "code",
      "source": [
        "print(len(txtfiles))"
      ],
      "metadata": {
        "colab": {
          "base_uri": "https://localhost:8080/"
        },
        "id": "20Wv_BPbeSSn",
        "outputId": "ff1c6bec-a931-4896-9cdd-58d94189c521"
      },
      "execution_count": null,
      "outputs": [
        {
          "output_type": "stream",
          "name": "stdout",
          "text": [
            "50\n"
          ]
        }
      ]
    },
    {
      "cell_type": "code",
      "source": [
        "len(items)"
      ],
      "metadata": {
        "colab": {
          "base_uri": "https://localhost:8080/"
        },
        "id": "iHQVeze7hI8g",
        "outputId": "112465e0-fd83-4aad-9c8e-a53b4bbe7ebb"
      },
      "execution_count": null,
      "outputs": [
        {
          "output_type": "execute_result",
          "data": {
            "text/plain": [
              "50"
            ]
          },
          "metadata": {},
          "execution_count": 12
        }
      ]
    },
    {
      "cell_type": "code",
      "source": [
        "data=[]\n",
        "textdata=[]\n",
        "ptext=[g[0] for g in txtfiles]\n",
        "for i,item in enumerate(items):\n",
        "  k={}\n",
        "  #print(i)\n",
        "  path=item[0]\n",
        "  #print(path)\n",
        "  if path in ptext:\n",
        "    idx=ptext.index(path)\n",
        "  #print(idx) \n",
        "  #print(ptext[idx])\n",
        "  text=txtfiles[idx][1]\n",
        "  textdata.append(text)"
      ],
      "metadata": {
        "id": "3NnXo7CCyKYk"
      },
      "execution_count": null,
      "outputs": []
    },
    {
      "cell_type": "code",
      "source": [
        "len(textdata)"
      ],
      "metadata": {
        "colab": {
          "base_uri": "https://localhost:8080/"
        },
        "id": "EQ8iChGbyO-1",
        "outputId": "280e5f4c-01a5-45b8-b981-54b39a451b2f"
      },
      "execution_count": null,
      "outputs": [
        {
          "output_type": "execute_result",
          "data": {
            "text/plain": [
              "50"
            ]
          },
          "metadata": {},
          "execution_count": 119
        }
      ]
    },
    {
      "cell_type": "code",
      "source": [
        "data=[]\n",
        "#textdata=[]\n",
        "ptext=[g[0] for g in txtfiles]\n",
        "for i,item in enumerate(items):\n",
        "  k={}\n",
        "  #print(i)\n",
        "  path=item[0]\n",
        "  #print(path)\n",
        "  if path in ptext:\n",
        "    idx=ptext.index(path)\n",
        "  doc_id=path.split(\"/\")[-1]\n",
        "  #print(idx) \n",
        "  #print(ptext[idx])\n",
        "  text=txtfiles[idx][1]\n",
        "  doc = nlp(text) # use your raw text here\n",
        "  for x in item[1]:\n",
        "    define_words=x[-1]\n",
        "    \n",
        "    \n",
        "    span=int(x[2][0]),int(x[2][1])\n",
        "    label=x[1]\n",
        "    w=x[-1]\n",
        "    word = doc.char_span(span[0], span[1])\n",
        "    #if str(word)!=define_words:\n",
        "      #print((idx,word,define_words))\n",
        "    if word is not None:\n",
        "      sent = word.sent\n",
        "    else:\n",
        "      sent=re.findall(r\"([^\\n\\n]*?%s.*?.[$\\n\\n])\" % define_words,text)\n",
        "      if sent==[]:\n",
        "        sent=define_words\n",
        "      #print(\"sent\",sent)\n",
        "    \n",
        "    #text=text.replace(define_words,\"$\"+text[span[0]:span[1]]+\"$\")\n",
        "    #t=[sentence + '.' for sentence in textdata[i].split('.') if define_words in sentence]\n",
        "    #t=(re.findall(r\"([^\\n\\n]*?%s.*?.[$\\n\\n])\" % define_words,text))\n",
        "    #t=(re.findall(r\"([^\\n\\n]*?%s.*?.[$\\n\\n])\" % define_words,text))\n",
        "    #print(t)\n",
        "    data.append((sent,define_words,span,label,doc_id))\n",
        "    #if x[-1] not in k.keys():\n",
        "      #k[x[-1]]=t\n",
        "  #data.append(k)\n",
        "  #textdata.append(text)"
      ],
      "metadata": {
        "id": "hM2yCBZWd5g7"
      },
      "execution_count": null,
      "outputs": []
    },
    {
      "cell_type": "code",
      "source": [
        "import pandas as pd\n",
        "df = pd.DataFrame(data,columns=[\"sent\",\"word\",\"span\",\"label\",\"doc_id\"])"
      ],
      "metadata": {
        "id": "okmzvzkenGDo"
      },
      "execution_count": null,
      "outputs": []
    },
    {
      "cell_type": "code",
      "source": [
        "import pandas as pd\n",
        "df_dev = pd.DataFrame(data,columns=[\"sent\",\"word\",\"span\",\"label\",\"doc_id\"])"
      ],
      "metadata": {
        "id": "XsBlB2EsrdMg"
      },
      "execution_count": null,
      "outputs": []
    },
    {
      "cell_type": "code",
      "source": [
        "df_dev.head()"
      ],
      "metadata": {
        "colab": {
          "base_uri": "https://localhost:8080/",
          "height": 206
        },
        "id": "0g0wOMtWnb1I",
        "outputId": "7f67585c-a5c8-48a9-fbba-3b4a342c2fc1"
      },
      "execution_count": null,
      "outputs": [
        {
          "output_type": "execute_result",
          "data": {
            "text/plain": [
              "   Unnamed: 0                                               sent         word  \\\n",
              "0           0  Pt says he can't stop eating after 3-4 pm, get...  barbiturate   \n",
              "1           1  Pt says he can't stop eating after 3-4 pm, get...       Ativan   \n",
              "2           2  Started Tramadol, thinks it's helping curb his...     Tramadol   \n",
              "3           3  Highest weight:  220->255 (2103 dx'd with CNS ...   prednisone   \n",
              "4           4                Gained 35# on Prednisone x 4 yrs.     Prednisone   \n",
              "\n",
              "           span           label  \n",
              "0    (767, 778)    Disposition   \n",
              "1    (783, 789)    Disposition   \n",
              "2  (1951, 1959)    Disposition   \n",
              "3  (2186, 2196)    Disposition   \n",
              "4  (2491, 2501)  NoDisposition   "
            ],
            "text/html": [
              "\n",
              "  <div id=\"df-5e70e755-cde8-464d-b440-84bfac6811aa\">\n",
              "    <div class=\"colab-df-container\">\n",
              "      <div>\n",
              "<style scoped>\n",
              "    .dataframe tbody tr th:only-of-type {\n",
              "        vertical-align: middle;\n",
              "    }\n",
              "\n",
              "    .dataframe tbody tr th {\n",
              "        vertical-align: top;\n",
              "    }\n",
              "\n",
              "    .dataframe thead th {\n",
              "        text-align: right;\n",
              "    }\n",
              "</style>\n",
              "<table border=\"1\" class=\"dataframe\">\n",
              "  <thead>\n",
              "    <tr style=\"text-align: right;\">\n",
              "      <th></th>\n",
              "      <th>Unnamed: 0</th>\n",
              "      <th>sent</th>\n",
              "      <th>word</th>\n",
              "      <th>span</th>\n",
              "      <th>label</th>\n",
              "    </tr>\n",
              "  </thead>\n",
              "  <tbody>\n",
              "    <tr>\n",
              "      <th>0</th>\n",
              "      <td>0</td>\n",
              "      <td>Pt says he can't stop eating after 3-4 pm, get...</td>\n",
              "      <td>barbiturate</td>\n",
              "      <td>(767, 778)</td>\n",
              "      <td>Disposition</td>\n",
              "    </tr>\n",
              "    <tr>\n",
              "      <th>1</th>\n",
              "      <td>1</td>\n",
              "      <td>Pt says he can't stop eating after 3-4 pm, get...</td>\n",
              "      <td>Ativan</td>\n",
              "      <td>(783, 789)</td>\n",
              "      <td>Disposition</td>\n",
              "    </tr>\n",
              "    <tr>\n",
              "      <th>2</th>\n",
              "      <td>2</td>\n",
              "      <td>Started Tramadol, thinks it's helping curb his...</td>\n",
              "      <td>Tramadol</td>\n",
              "      <td>(1951, 1959)</td>\n",
              "      <td>Disposition</td>\n",
              "    </tr>\n",
              "    <tr>\n",
              "      <th>3</th>\n",
              "      <td>3</td>\n",
              "      <td>Highest weight:  220-&gt;255 (2103 dx'd with CNS ...</td>\n",
              "      <td>prednisone</td>\n",
              "      <td>(2186, 2196)</td>\n",
              "      <td>Disposition</td>\n",
              "    </tr>\n",
              "    <tr>\n",
              "      <th>4</th>\n",
              "      <td>4</td>\n",
              "      <td>Gained 35# on Prednisone x 4 yrs.</td>\n",
              "      <td>Prednisone</td>\n",
              "      <td>(2491, 2501)</td>\n",
              "      <td>NoDisposition</td>\n",
              "    </tr>\n",
              "  </tbody>\n",
              "</table>\n",
              "</div>\n",
              "      <button class=\"colab-df-convert\" onclick=\"convertToInteractive('df-5e70e755-cde8-464d-b440-84bfac6811aa')\"\n",
              "              title=\"Convert this dataframe to an interactive table.\"\n",
              "              style=\"display:none;\">\n",
              "        \n",
              "  <svg xmlns=\"http://www.w3.org/2000/svg\" height=\"24px\"viewBox=\"0 0 24 24\"\n",
              "       width=\"24px\">\n",
              "    <path d=\"M0 0h24v24H0V0z\" fill=\"none\"/>\n",
              "    <path d=\"M18.56 5.44l.94 2.06.94-2.06 2.06-.94-2.06-.94-.94-2.06-.94 2.06-2.06.94zm-11 1L8.5 8.5l.94-2.06 2.06-.94-2.06-.94L8.5 2.5l-.94 2.06-2.06.94zm10 10l.94 2.06.94-2.06 2.06-.94-2.06-.94-.94-2.06-.94 2.06-2.06.94z\"/><path d=\"M17.41 7.96l-1.37-1.37c-.4-.4-.92-.59-1.43-.59-.52 0-1.04.2-1.43.59L10.3 9.45l-7.72 7.72c-.78.78-.78 2.05 0 2.83L4 21.41c.39.39.9.59 1.41.59.51 0 1.02-.2 1.41-.59l7.78-7.78 2.81-2.81c.8-.78.8-2.07 0-2.86zM5.41 20L4 18.59l7.72-7.72 1.47 1.35L5.41 20z\"/>\n",
              "  </svg>\n",
              "      </button>\n",
              "      \n",
              "  <style>\n",
              "    .colab-df-container {\n",
              "      display:flex;\n",
              "      flex-wrap:wrap;\n",
              "      gap: 12px;\n",
              "    }\n",
              "\n",
              "    .colab-df-convert {\n",
              "      background-color: #E8F0FE;\n",
              "      border: none;\n",
              "      border-radius: 50%;\n",
              "      cursor: pointer;\n",
              "      display: none;\n",
              "      fill: #1967D2;\n",
              "      height: 32px;\n",
              "      padding: 0 0 0 0;\n",
              "      width: 32px;\n",
              "    }\n",
              "\n",
              "    .colab-df-convert:hover {\n",
              "      background-color: #E2EBFA;\n",
              "      box-shadow: 0px 1px 2px rgba(60, 64, 67, 0.3), 0px 1px 3px 1px rgba(60, 64, 67, 0.15);\n",
              "      fill: #174EA6;\n",
              "    }\n",
              "\n",
              "    [theme=dark] .colab-df-convert {\n",
              "      background-color: #3B4455;\n",
              "      fill: #D2E3FC;\n",
              "    }\n",
              "\n",
              "    [theme=dark] .colab-df-convert:hover {\n",
              "      background-color: #434B5C;\n",
              "      box-shadow: 0px 1px 3px 1px rgba(0, 0, 0, 0.15);\n",
              "      filter: drop-shadow(0px 1px 2px rgba(0, 0, 0, 0.3));\n",
              "      fill: #FFFFFF;\n",
              "    }\n",
              "  </style>\n",
              "\n",
              "      <script>\n",
              "        const buttonEl =\n",
              "          document.querySelector('#df-5e70e755-cde8-464d-b440-84bfac6811aa button.colab-df-convert');\n",
              "        buttonEl.style.display =\n",
              "          google.colab.kernel.accessAllowed ? 'block' : 'none';\n",
              "\n",
              "        async function convertToInteractive(key) {\n",
              "          const element = document.querySelector('#df-5e70e755-cde8-464d-b440-84bfac6811aa');\n",
              "          const dataTable =\n",
              "            await google.colab.kernel.invokeFunction('convertToInteractive',\n",
              "                                                     [key], {});\n",
              "          if (!dataTable) return;\n",
              "\n",
              "          const docLinkHtml = 'Like what you see? Visit the ' +\n",
              "            '<a target=\"_blank\" href=https://colab.research.google.com/notebooks/data_table.ipynb>data table notebook</a>'\n",
              "            + ' to learn more about interactive tables.';\n",
              "          element.innerHTML = '';\n",
              "          dataTable['output_type'] = 'display_data';\n",
              "          await google.colab.output.renderOutput(dataTable, element);\n",
              "          const docLink = document.createElement('div');\n",
              "          docLink.innerHTML = docLinkHtml;\n",
              "          element.appendChild(docLink);\n",
              "        }\n",
              "      </script>\n",
              "    </div>\n",
              "  </div>\n",
              "  "
            ]
          },
          "metadata": {},
          "execution_count": 139
        }
      ]
    },
    {
      "cell_type": "code",
      "source": [
        "df.to_csv(input_dir+\"/train.csv\")"
      ],
      "metadata": {
        "id": "_9sVNgaenvG9"
      },
      "execution_count": null,
      "outputs": []
    },
    {
      "cell_type": "code",
      "source": [
        "df_dev.to_csv(input_dir+\"/dev.csv\")"
      ],
      "metadata": {
        "id": "8gJ7OvnWrign"
      },
      "execution_count": null,
      "outputs": []
    },
    {
      "cell_type": "code",
      "source": [
        "df_train=pd.read_csv(input_dir+\"/train.csv\")"
      ],
      "metadata": {
        "id": "X3Yv9tdNgL1t"
      },
      "execution_count": null,
      "outputs": []
    },
    {
      "cell_type": "code",
      "source": [
        "df_train.head()"
      ],
      "metadata": {
        "colab": {
          "base_uri": "https://localhost:8080/",
          "height": 206
        },
        "id": "GaB8anOqgsND",
        "outputId": "9720a36a-b32e-43b6-e9bf-8cfe714fb0a2"
      },
      "execution_count": null,
      "outputs": [
        {
          "output_type": "execute_result",
          "data": {
            "text/plain": [
              "   Unnamed: 0                                               sent  \\\n",
              "0           0  At the time of our last visit, she \\n\\nbegan P...   \n",
              "1           1  After being on the dose \\n\\nof Procardia, she ...   \n",
              "2           2  Her other medications have remained the same a...   \n",
              "3           3  Her other medications have remained the same a...   \n",
              "4           4  Change Procardia XL to 60 mg once daily and co...   \n",
              "\n",
              "            word          span         label  doc_id  \n",
              "0   Procardia XL    (119, 131)  Disposition   228-03  \n",
              "1      Procardia    (264, 273)  Disposition   228-03  \n",
              "2  Nitroglycerin    (766, 779)  Disposition   228-03  \n",
              "3     Nifedipine    (751, 761)  Disposition   228-03  \n",
              "4   Procardia XL  (1067, 1079)  Disposition   228-03  "
            ],
            "text/html": [
              "\n",
              "  <div id=\"df-0978f0ca-8da0-409f-92a3-ea2b623d05be\">\n",
              "    <div class=\"colab-df-container\">\n",
              "      <div>\n",
              "<style scoped>\n",
              "    .dataframe tbody tr th:only-of-type {\n",
              "        vertical-align: middle;\n",
              "    }\n",
              "\n",
              "    .dataframe tbody tr th {\n",
              "        vertical-align: top;\n",
              "    }\n",
              "\n",
              "    .dataframe thead th {\n",
              "        text-align: right;\n",
              "    }\n",
              "</style>\n",
              "<table border=\"1\" class=\"dataframe\">\n",
              "  <thead>\n",
              "    <tr style=\"text-align: right;\">\n",
              "      <th></th>\n",
              "      <th>Unnamed: 0</th>\n",
              "      <th>sent</th>\n",
              "      <th>word</th>\n",
              "      <th>span</th>\n",
              "      <th>label</th>\n",
              "      <th>doc_id</th>\n",
              "    </tr>\n",
              "  </thead>\n",
              "  <tbody>\n",
              "    <tr>\n",
              "      <th>0</th>\n",
              "      <td>0</td>\n",
              "      <td>At the time of our last visit, she \\n\\nbegan P...</td>\n",
              "      <td>Procardia XL</td>\n",
              "      <td>(119, 131)</td>\n",
              "      <td>Disposition</td>\n",
              "      <td>228-03</td>\n",
              "    </tr>\n",
              "    <tr>\n",
              "      <th>1</th>\n",
              "      <td>1</td>\n",
              "      <td>After being on the dose \\n\\nof Procardia, she ...</td>\n",
              "      <td>Procardia</td>\n",
              "      <td>(264, 273)</td>\n",
              "      <td>Disposition</td>\n",
              "      <td>228-03</td>\n",
              "    </tr>\n",
              "    <tr>\n",
              "      <th>2</th>\n",
              "      <td>2</td>\n",
              "      <td>Her other medications have remained the same a...</td>\n",
              "      <td>Nitroglycerin</td>\n",
              "      <td>(766, 779)</td>\n",
              "      <td>Disposition</td>\n",
              "      <td>228-03</td>\n",
              "    </tr>\n",
              "    <tr>\n",
              "      <th>3</th>\n",
              "      <td>3</td>\n",
              "      <td>Her other medications have remained the same a...</td>\n",
              "      <td>Nifedipine</td>\n",
              "      <td>(751, 761)</td>\n",
              "      <td>Disposition</td>\n",
              "      <td>228-03</td>\n",
              "    </tr>\n",
              "    <tr>\n",
              "      <th>4</th>\n",
              "      <td>4</td>\n",
              "      <td>Change Procardia XL to 60 mg once daily and co...</td>\n",
              "      <td>Procardia XL</td>\n",
              "      <td>(1067, 1079)</td>\n",
              "      <td>Disposition</td>\n",
              "      <td>228-03</td>\n",
              "    </tr>\n",
              "  </tbody>\n",
              "</table>\n",
              "</div>\n",
              "      <button class=\"colab-df-convert\" onclick=\"convertToInteractive('df-0978f0ca-8da0-409f-92a3-ea2b623d05be')\"\n",
              "              title=\"Convert this dataframe to an interactive table.\"\n",
              "              style=\"display:none;\">\n",
              "        \n",
              "  <svg xmlns=\"http://www.w3.org/2000/svg\" height=\"24px\"viewBox=\"0 0 24 24\"\n",
              "       width=\"24px\">\n",
              "    <path d=\"M0 0h24v24H0V0z\" fill=\"none\"/>\n",
              "    <path d=\"M18.56 5.44l.94 2.06.94-2.06 2.06-.94-2.06-.94-.94-2.06-.94 2.06-2.06.94zm-11 1L8.5 8.5l.94-2.06 2.06-.94-2.06-.94L8.5 2.5l-.94 2.06-2.06.94zm10 10l.94 2.06.94-2.06 2.06-.94-2.06-.94-.94-2.06-.94 2.06-2.06.94z\"/><path d=\"M17.41 7.96l-1.37-1.37c-.4-.4-.92-.59-1.43-.59-.52 0-1.04.2-1.43.59L10.3 9.45l-7.72 7.72c-.78.78-.78 2.05 0 2.83L4 21.41c.39.39.9.59 1.41.59.51 0 1.02-.2 1.41-.59l7.78-7.78 2.81-2.81c.8-.78.8-2.07 0-2.86zM5.41 20L4 18.59l7.72-7.72 1.47 1.35L5.41 20z\"/>\n",
              "  </svg>\n",
              "      </button>\n",
              "      \n",
              "  <style>\n",
              "    .colab-df-container {\n",
              "      display:flex;\n",
              "      flex-wrap:wrap;\n",
              "      gap: 12px;\n",
              "    }\n",
              "\n",
              "    .colab-df-convert {\n",
              "      background-color: #E8F0FE;\n",
              "      border: none;\n",
              "      border-radius: 50%;\n",
              "      cursor: pointer;\n",
              "      display: none;\n",
              "      fill: #1967D2;\n",
              "      height: 32px;\n",
              "      padding: 0 0 0 0;\n",
              "      width: 32px;\n",
              "    }\n",
              "\n",
              "    .colab-df-convert:hover {\n",
              "      background-color: #E2EBFA;\n",
              "      box-shadow: 0px 1px 2px rgba(60, 64, 67, 0.3), 0px 1px 3px 1px rgba(60, 64, 67, 0.15);\n",
              "      fill: #174EA6;\n",
              "    }\n",
              "\n",
              "    [theme=dark] .colab-df-convert {\n",
              "      background-color: #3B4455;\n",
              "      fill: #D2E3FC;\n",
              "    }\n",
              "\n",
              "    [theme=dark] .colab-df-convert:hover {\n",
              "      background-color: #434B5C;\n",
              "      box-shadow: 0px 1px 3px 1px rgba(0, 0, 0, 0.15);\n",
              "      filter: drop-shadow(0px 1px 2px rgba(0, 0, 0, 0.3));\n",
              "      fill: #FFFFFF;\n",
              "    }\n",
              "  </style>\n",
              "\n",
              "      <script>\n",
              "        const buttonEl =\n",
              "          document.querySelector('#df-0978f0ca-8da0-409f-92a3-ea2b623d05be button.colab-df-convert');\n",
              "        buttonEl.style.display =\n",
              "          google.colab.kernel.accessAllowed ? 'block' : 'none';\n",
              "\n",
              "        async function convertToInteractive(key) {\n",
              "          const element = document.querySelector('#df-0978f0ca-8da0-409f-92a3-ea2b623d05be');\n",
              "          const dataTable =\n",
              "            await google.colab.kernel.invokeFunction('convertToInteractive',\n",
              "                                                     [key], {});\n",
              "          if (!dataTable) return;\n",
              "\n",
              "          const docLinkHtml = 'Like what you see? Visit the ' +\n",
              "            '<a target=\"_blank\" href=https://colab.research.google.com/notebooks/data_table.ipynb>data table notebook</a>'\n",
              "            + ' to learn more about interactive tables.';\n",
              "          element.innerHTML = '';\n",
              "          dataTable['output_type'] = 'display_data';\n",
              "          await google.colab.output.renderOutput(dataTable, element);\n",
              "          const docLink = document.createElement('div');\n",
              "          docLink.innerHTML = docLinkHtml;\n",
              "          element.appendChild(docLink);\n",
              "        }\n",
              "      </script>\n",
              "    </div>\n",
              "  </div>\n",
              "  "
            ]
          },
          "metadata": {},
          "execution_count": 140
        }
      ]
    },
    {
      "cell_type": "code",
      "source": [
        "# d=[]\n",
        "# for j,item in enumerate(items):\n",
        "#   print(\"item no:\",j)\n",
        "#   k=0\n",
        "#   word1=[]\n",
        "#   i=0\n",
        "#   for x in item[1]:\n",
        "#     k+=1\n",
        "#     #('T1', 'NoDisposition ', ['619', '625'], 'Nexium')\n",
        "#     print(x)\n",
        "#     word=x[-1]\n",
        "#     label=x[1]\n",
        "#     span=x[2]\n",
        "    \n",
        "    \n",
        "#     if word in data[j].keys():\n",
        "      \n",
        "#       if word in word1:\n",
        "#         i+=1\n",
        "#       else:\n",
        "#         i=0\n",
        "#       print(i)\n",
        "#       sent=data[j][word]\n",
        "#       sents=sent[i]\n",
        "#       word1.append(word)\n",
        "#       print(sents)\n",
        "#       #print((k,sents,word,label))\n",
        "      \n",
        "#       d.append((sent,word,span,label))"
      ],
      "metadata": {
        "id": "k-giMsE7dtMq"
      },
      "execution_count": null,
      "outputs": []
    },
    {
      "cell_type": "markdown",
      "source": [
        "**Training & Testing**"
      ],
      "metadata": {
        "id": "22YczEm3MNPI"
      }
    },
    {
      "cell_type": "code",
      "source": [
        "from google.colab import drive\n",
        "drive.mount('/content/gdrive', force_remount=True)\n",
        "root_dir = \"/content/gdrive/My Drive/\""
      ],
      "metadata": {
        "colab": {
          "base_uri": "https://localhost:8080/"
        },
        "id": "gM_K3HzDqlg9",
        "outputId": "db56c52b-8c11-4995-f486-97fcfa833b0b"
      },
      "execution_count": null,
      "outputs": [
        {
          "output_type": "stream",
          "name": "stdout",
          "text": [
            "Mounted at /content/gdrive\n"
          ]
        }
      ]
    },
    {
      "cell_type": "code",
      "source": [
        "root_dir = \"/content/gdrive/My Drive/CMED_Harvard_Shared_task//trainingdata_v3/\"\n",
        "import os\n",
        "input_dir=os.path.join(root_dir,'train')"
      ],
      "metadata": {
        "id": "OA0uBi-epx8q"
      },
      "execution_count": null,
      "outputs": []
    },
    {
      "cell_type": "code",
      "source": [
        "import pandas as pd\n",
        "df=pd.read_csv(root_dir+\"/train.csv\")"
      ],
      "metadata": {
        "id": "x5FID5_Fn8D4"
      },
      "execution_count": null,
      "outputs": []
    },
    {
      "cell_type": "code",
      "source": [
        "df.head()"
      ],
      "metadata": {
        "colab": {
          "base_uri": "https://localhost:8080/",
          "height": 206
        },
        "id": "QZ3NSxzlgxc-",
        "outputId": "0ce93614-d2d4-411b-d396-8a67a88d9b70"
      },
      "execution_count": null,
      "outputs": [
        {
          "output_type": "execute_result",
          "data": {
            "text/plain": [
              "   Unnamed: 0                                               sent  \\\n",
              "0           0  At the time of our last visit, she \\n\\nbegan P...   \n",
              "1           1  After being on the dose \\n\\nof Procardia, she ...   \n",
              "2           2  Her other medications have remained the same a...   \n",
              "3           3  Her other medications have remained the same a...   \n",
              "4           4  Change Procardia XL to 60 mg once daily and co...   \n",
              "\n",
              "            word          span         label  doc_id  \n",
              "0   Procardia XL    (119, 131)  Disposition   228-03  \n",
              "1      Procardia    (264, 273)  Disposition   228-03  \n",
              "2  Nitroglycerin    (766, 779)  Disposition   228-03  \n",
              "3     Nifedipine    (751, 761)  Disposition   228-03  \n",
              "4   Procardia XL  (1067, 1079)  Disposition   228-03  "
            ],
            "text/html": [
              "\n",
              "  <div id=\"df-c2cdd542-32d0-4eea-b221-c80fc1bc6948\">\n",
              "    <div class=\"colab-df-container\">\n",
              "      <div>\n",
              "<style scoped>\n",
              "    .dataframe tbody tr th:only-of-type {\n",
              "        vertical-align: middle;\n",
              "    }\n",
              "\n",
              "    .dataframe tbody tr th {\n",
              "        vertical-align: top;\n",
              "    }\n",
              "\n",
              "    .dataframe thead th {\n",
              "        text-align: right;\n",
              "    }\n",
              "</style>\n",
              "<table border=\"1\" class=\"dataframe\">\n",
              "  <thead>\n",
              "    <tr style=\"text-align: right;\">\n",
              "      <th></th>\n",
              "      <th>Unnamed: 0</th>\n",
              "      <th>sent</th>\n",
              "      <th>word</th>\n",
              "      <th>span</th>\n",
              "      <th>label</th>\n",
              "      <th>doc_id</th>\n",
              "    </tr>\n",
              "  </thead>\n",
              "  <tbody>\n",
              "    <tr>\n",
              "      <th>0</th>\n",
              "      <td>0</td>\n",
              "      <td>At the time of our last visit, she \\n\\nbegan P...</td>\n",
              "      <td>Procardia XL</td>\n",
              "      <td>(119, 131)</td>\n",
              "      <td>Disposition</td>\n",
              "      <td>228-03</td>\n",
              "    </tr>\n",
              "    <tr>\n",
              "      <th>1</th>\n",
              "      <td>1</td>\n",
              "      <td>After being on the dose \\n\\nof Procardia, she ...</td>\n",
              "      <td>Procardia</td>\n",
              "      <td>(264, 273)</td>\n",
              "      <td>Disposition</td>\n",
              "      <td>228-03</td>\n",
              "    </tr>\n",
              "    <tr>\n",
              "      <th>2</th>\n",
              "      <td>2</td>\n",
              "      <td>Her other medications have remained the same a...</td>\n",
              "      <td>Nitroglycerin</td>\n",
              "      <td>(766, 779)</td>\n",
              "      <td>Disposition</td>\n",
              "      <td>228-03</td>\n",
              "    </tr>\n",
              "    <tr>\n",
              "      <th>3</th>\n",
              "      <td>3</td>\n",
              "      <td>Her other medications have remained the same a...</td>\n",
              "      <td>Nifedipine</td>\n",
              "      <td>(751, 761)</td>\n",
              "      <td>Disposition</td>\n",
              "      <td>228-03</td>\n",
              "    </tr>\n",
              "    <tr>\n",
              "      <th>4</th>\n",
              "      <td>4</td>\n",
              "      <td>Change Procardia XL to 60 mg once daily and co...</td>\n",
              "      <td>Procardia XL</td>\n",
              "      <td>(1067, 1079)</td>\n",
              "      <td>Disposition</td>\n",
              "      <td>228-03</td>\n",
              "    </tr>\n",
              "  </tbody>\n",
              "</table>\n",
              "</div>\n",
              "      <button class=\"colab-df-convert\" onclick=\"convertToInteractive('df-c2cdd542-32d0-4eea-b221-c80fc1bc6948')\"\n",
              "              title=\"Convert this dataframe to an interactive table.\"\n",
              "              style=\"display:none;\">\n",
              "        \n",
              "  <svg xmlns=\"http://www.w3.org/2000/svg\" height=\"24px\"viewBox=\"0 0 24 24\"\n",
              "       width=\"24px\">\n",
              "    <path d=\"M0 0h24v24H0V0z\" fill=\"none\"/>\n",
              "    <path d=\"M18.56 5.44l.94 2.06.94-2.06 2.06-.94-2.06-.94-.94-2.06-.94 2.06-2.06.94zm-11 1L8.5 8.5l.94-2.06 2.06-.94-2.06-.94L8.5 2.5l-.94 2.06-2.06.94zm10 10l.94 2.06.94-2.06 2.06-.94-2.06-.94-.94-2.06-.94 2.06-2.06.94z\"/><path d=\"M17.41 7.96l-1.37-1.37c-.4-.4-.92-.59-1.43-.59-.52 0-1.04.2-1.43.59L10.3 9.45l-7.72 7.72c-.78.78-.78 2.05 0 2.83L4 21.41c.39.39.9.59 1.41.59.51 0 1.02-.2 1.41-.59l7.78-7.78 2.81-2.81c.8-.78.8-2.07 0-2.86zM5.41 20L4 18.59l7.72-7.72 1.47 1.35L5.41 20z\"/>\n",
              "  </svg>\n",
              "      </button>\n",
              "      \n",
              "  <style>\n",
              "    .colab-df-container {\n",
              "      display:flex;\n",
              "      flex-wrap:wrap;\n",
              "      gap: 12px;\n",
              "    }\n",
              "\n",
              "    .colab-df-convert {\n",
              "      background-color: #E8F0FE;\n",
              "      border: none;\n",
              "      border-radius: 50%;\n",
              "      cursor: pointer;\n",
              "      display: none;\n",
              "      fill: #1967D2;\n",
              "      height: 32px;\n",
              "      padding: 0 0 0 0;\n",
              "      width: 32px;\n",
              "    }\n",
              "\n",
              "    .colab-df-convert:hover {\n",
              "      background-color: #E2EBFA;\n",
              "      box-shadow: 0px 1px 2px rgba(60, 64, 67, 0.3), 0px 1px 3px 1px rgba(60, 64, 67, 0.15);\n",
              "      fill: #174EA6;\n",
              "    }\n",
              "\n",
              "    [theme=dark] .colab-df-convert {\n",
              "      background-color: #3B4455;\n",
              "      fill: #D2E3FC;\n",
              "    }\n",
              "\n",
              "    [theme=dark] .colab-df-convert:hover {\n",
              "      background-color: #434B5C;\n",
              "      box-shadow: 0px 1px 3px 1px rgba(0, 0, 0, 0.15);\n",
              "      filter: drop-shadow(0px 1px 2px rgba(0, 0, 0, 0.3));\n",
              "      fill: #FFFFFF;\n",
              "    }\n",
              "  </style>\n",
              "\n",
              "      <script>\n",
              "        const buttonEl =\n",
              "          document.querySelector('#df-c2cdd542-32d0-4eea-b221-c80fc1bc6948 button.colab-df-convert');\n",
              "        buttonEl.style.display =\n",
              "          google.colab.kernel.accessAllowed ? 'block' : 'none';\n",
              "\n",
              "        async function convertToInteractive(key) {\n",
              "          const element = document.querySelector('#df-c2cdd542-32d0-4eea-b221-c80fc1bc6948');\n",
              "          const dataTable =\n",
              "            await google.colab.kernel.invokeFunction('convertToInteractive',\n",
              "                                                     [key], {});\n",
              "          if (!dataTable) return;\n",
              "\n",
              "          const docLinkHtml = 'Like what you see? Visit the ' +\n",
              "            '<a target=\"_blank\" href=https://colab.research.google.com/notebooks/data_table.ipynb>data table notebook</a>'\n",
              "            + ' to learn more about interactive tables.';\n",
              "          element.innerHTML = '';\n",
              "          dataTable['output_type'] = 'display_data';\n",
              "          await google.colab.output.renderOutput(dataTable, element);\n",
              "          const docLink = document.createElement('div');\n",
              "          docLink.innerHTML = docLinkHtml;\n",
              "          element.appendChild(docLink);\n",
              "        }\n",
              "      </script>\n",
              "    </div>\n",
              "  </div>\n",
              "  "
            ]
          },
          "metadata": {},
          "execution_count": 145
        }
      ]
    },
    {
      "cell_type": "code",
      "source": [
        "df_dev=pd.read_csv(root_dir+\"/dev.csv\")"
      ],
      "metadata": {
        "id": "CUoNltSor6Ax"
      },
      "execution_count": null,
      "outputs": []
    },
    {
      "cell_type": "code",
      "source": [
        "df_dev.head()"
      ],
      "metadata": {
        "id": "PczVhvr8oCFC",
        "colab": {
          "base_uri": "https://localhost:8080/",
          "height": 206
        },
        "outputId": "2e028962-024b-47f7-bd1e-7804a666c4cb"
      },
      "execution_count": null,
      "outputs": [
        {
          "output_type": "execute_result",
          "data": {
            "text/plain": [
              "   Unnamed: 0                                               sent         word  \\\n",
              "0           0  Pt says he can't stop eating after 3-4 pm, get...  barbiturate   \n",
              "1           1  Pt says he can't stop eating after 3-4 pm, get...       Ativan   \n",
              "2           2  Started Tramadol, thinks it's helping curb his...     Tramadol   \n",
              "3           3  Highest weight:  220->255 (2103 dx'd with CNS ...   prednisone   \n",
              "4           4                Gained 35# on Prednisone x 4 yrs.     Prednisone   \n",
              "\n",
              "           span           label  doc_id  \n",
              "0    (767, 778)    Disposition   187-03  \n",
              "1    (783, 789)    Disposition   187-03  \n",
              "2  (1951, 1959)    Disposition   187-03  \n",
              "3  (2186, 2196)    Disposition   187-03  \n",
              "4  (2491, 2501)  NoDisposition   187-03  "
            ],
            "text/html": [
              "\n",
              "  <div id=\"df-e6ff131c-431b-458e-bf27-8881f05d5597\">\n",
              "    <div class=\"colab-df-container\">\n",
              "      <div>\n",
              "<style scoped>\n",
              "    .dataframe tbody tr th:only-of-type {\n",
              "        vertical-align: middle;\n",
              "    }\n",
              "\n",
              "    .dataframe tbody tr th {\n",
              "        vertical-align: top;\n",
              "    }\n",
              "\n",
              "    .dataframe thead th {\n",
              "        text-align: right;\n",
              "    }\n",
              "</style>\n",
              "<table border=\"1\" class=\"dataframe\">\n",
              "  <thead>\n",
              "    <tr style=\"text-align: right;\">\n",
              "      <th></th>\n",
              "      <th>Unnamed: 0</th>\n",
              "      <th>sent</th>\n",
              "      <th>word</th>\n",
              "      <th>span</th>\n",
              "      <th>label</th>\n",
              "      <th>doc_id</th>\n",
              "    </tr>\n",
              "  </thead>\n",
              "  <tbody>\n",
              "    <tr>\n",
              "      <th>0</th>\n",
              "      <td>0</td>\n",
              "      <td>Pt says he can't stop eating after 3-4 pm, get...</td>\n",
              "      <td>barbiturate</td>\n",
              "      <td>(767, 778)</td>\n",
              "      <td>Disposition</td>\n",
              "      <td>187-03</td>\n",
              "    </tr>\n",
              "    <tr>\n",
              "      <th>1</th>\n",
              "      <td>1</td>\n",
              "      <td>Pt says he can't stop eating after 3-4 pm, get...</td>\n",
              "      <td>Ativan</td>\n",
              "      <td>(783, 789)</td>\n",
              "      <td>Disposition</td>\n",
              "      <td>187-03</td>\n",
              "    </tr>\n",
              "    <tr>\n",
              "      <th>2</th>\n",
              "      <td>2</td>\n",
              "      <td>Started Tramadol, thinks it's helping curb his...</td>\n",
              "      <td>Tramadol</td>\n",
              "      <td>(1951, 1959)</td>\n",
              "      <td>Disposition</td>\n",
              "      <td>187-03</td>\n",
              "    </tr>\n",
              "    <tr>\n",
              "      <th>3</th>\n",
              "      <td>3</td>\n",
              "      <td>Highest weight:  220-&gt;255 (2103 dx'd with CNS ...</td>\n",
              "      <td>prednisone</td>\n",
              "      <td>(2186, 2196)</td>\n",
              "      <td>Disposition</td>\n",
              "      <td>187-03</td>\n",
              "    </tr>\n",
              "    <tr>\n",
              "      <th>4</th>\n",
              "      <td>4</td>\n",
              "      <td>Gained 35# on Prednisone x 4 yrs.</td>\n",
              "      <td>Prednisone</td>\n",
              "      <td>(2491, 2501)</td>\n",
              "      <td>NoDisposition</td>\n",
              "      <td>187-03</td>\n",
              "    </tr>\n",
              "  </tbody>\n",
              "</table>\n",
              "</div>\n",
              "      <button class=\"colab-df-convert\" onclick=\"convertToInteractive('df-e6ff131c-431b-458e-bf27-8881f05d5597')\"\n",
              "              title=\"Convert this dataframe to an interactive table.\"\n",
              "              style=\"display:none;\">\n",
              "        \n",
              "  <svg xmlns=\"http://www.w3.org/2000/svg\" height=\"24px\"viewBox=\"0 0 24 24\"\n",
              "       width=\"24px\">\n",
              "    <path d=\"M0 0h24v24H0V0z\" fill=\"none\"/>\n",
              "    <path d=\"M18.56 5.44l.94 2.06.94-2.06 2.06-.94-2.06-.94-.94-2.06-.94 2.06-2.06.94zm-11 1L8.5 8.5l.94-2.06 2.06-.94-2.06-.94L8.5 2.5l-.94 2.06-2.06.94zm10 10l.94 2.06.94-2.06 2.06-.94-2.06-.94-.94-2.06-.94 2.06-2.06.94z\"/><path d=\"M17.41 7.96l-1.37-1.37c-.4-.4-.92-.59-1.43-.59-.52 0-1.04.2-1.43.59L10.3 9.45l-7.72 7.72c-.78.78-.78 2.05 0 2.83L4 21.41c.39.39.9.59 1.41.59.51 0 1.02-.2 1.41-.59l7.78-7.78 2.81-2.81c.8-.78.8-2.07 0-2.86zM5.41 20L4 18.59l7.72-7.72 1.47 1.35L5.41 20z\"/>\n",
              "  </svg>\n",
              "      </button>\n",
              "      \n",
              "  <style>\n",
              "    .colab-df-container {\n",
              "      display:flex;\n",
              "      flex-wrap:wrap;\n",
              "      gap: 12px;\n",
              "    }\n",
              "\n",
              "    .colab-df-convert {\n",
              "      background-color: #E8F0FE;\n",
              "      border: none;\n",
              "      border-radius: 50%;\n",
              "      cursor: pointer;\n",
              "      display: none;\n",
              "      fill: #1967D2;\n",
              "      height: 32px;\n",
              "      padding: 0 0 0 0;\n",
              "      width: 32px;\n",
              "    }\n",
              "\n",
              "    .colab-df-convert:hover {\n",
              "      background-color: #E2EBFA;\n",
              "      box-shadow: 0px 1px 2px rgba(60, 64, 67, 0.3), 0px 1px 3px 1px rgba(60, 64, 67, 0.15);\n",
              "      fill: #174EA6;\n",
              "    }\n",
              "\n",
              "    [theme=dark] .colab-df-convert {\n",
              "      background-color: #3B4455;\n",
              "      fill: #D2E3FC;\n",
              "    }\n",
              "\n",
              "    [theme=dark] .colab-df-convert:hover {\n",
              "      background-color: #434B5C;\n",
              "      box-shadow: 0px 1px 3px 1px rgba(0, 0, 0, 0.15);\n",
              "      filter: drop-shadow(0px 1px 2px rgba(0, 0, 0, 0.3));\n",
              "      fill: #FFFFFF;\n",
              "    }\n",
              "  </style>\n",
              "\n",
              "      <script>\n",
              "        const buttonEl =\n",
              "          document.querySelector('#df-e6ff131c-431b-458e-bf27-8881f05d5597 button.colab-df-convert');\n",
              "        buttonEl.style.display =\n",
              "          google.colab.kernel.accessAllowed ? 'block' : 'none';\n",
              "\n",
              "        async function convertToInteractive(key) {\n",
              "          const element = document.querySelector('#df-e6ff131c-431b-458e-bf27-8881f05d5597');\n",
              "          const dataTable =\n",
              "            await google.colab.kernel.invokeFunction('convertToInteractive',\n",
              "                                                     [key], {});\n",
              "          if (!dataTable) return;\n",
              "\n",
              "          const docLinkHtml = 'Like what you see? Visit the ' +\n",
              "            '<a target=\"_blank\" href=https://colab.research.google.com/notebooks/data_table.ipynb>data table notebook</a>'\n",
              "            + ' to learn more about interactive tables.';\n",
              "          element.innerHTML = '';\n",
              "          dataTable['output_type'] = 'display_data';\n",
              "          await google.colab.output.renderOutput(dataTable, element);\n",
              "          const docLink = document.createElement('div');\n",
              "          docLink.innerHTML = docLinkHtml;\n",
              "          element.appendChild(docLink);\n",
              "        }\n",
              "      </script>\n",
              "    </div>\n",
              "  </div>\n",
              "  "
            ]
          },
          "metadata": {},
          "execution_count": 148
        }
      ]
    },
    {
      "cell_type": "code",
      "source": [
        "!pip install transformers"
      ],
      "metadata": {
        "colab": {
          "base_uri": "https://localhost:8080/"
        },
        "id": "Uk5ysLLApZPb",
        "outputId": "b454a8e6-a09c-45c7-93f7-4032cfe3ed13"
      },
      "execution_count": null,
      "outputs": [
        {
          "output_type": "stream",
          "name": "stdout",
          "text": [
            "Requirement already satisfied: transformers in /usr/local/lib/python3.7/dist-packages (4.17.0)\n",
            "Requirement already satisfied: importlib-metadata in /usr/local/lib/python3.7/dist-packages (from transformers) (4.11.3)\n",
            "Requirement already satisfied: packaging>=20.0 in /usr/local/lib/python3.7/dist-packages (from transformers) (21.3)\n",
            "Requirement already satisfied: huggingface-hub<1.0,>=0.1.0 in /usr/local/lib/python3.7/dist-packages (from transformers) (0.4.0)\n",
            "Requirement already satisfied: pyyaml>=5.1 in /usr/local/lib/python3.7/dist-packages (from transformers) (6.0)\n",
            "Requirement already satisfied: filelock in /usr/local/lib/python3.7/dist-packages (from transformers) (3.6.0)\n",
            "Requirement already satisfied: numpy>=1.17 in /usr/local/lib/python3.7/dist-packages (from transformers) (1.21.5)\n",
            "Requirement already satisfied: regex!=2019.12.17 in /usr/local/lib/python3.7/dist-packages (from transformers) (2019.12.20)\n",
            "Requirement already satisfied: requests in /usr/local/lib/python3.7/dist-packages (from transformers) (2.23.0)\n",
            "Requirement already satisfied: tokenizers!=0.11.3,>=0.11.1 in /usr/local/lib/python3.7/dist-packages (from transformers) (0.11.6)\n",
            "Requirement already satisfied: sacremoses in /usr/local/lib/python3.7/dist-packages (from transformers) (0.0.49)\n",
            "Requirement already satisfied: tqdm>=4.27 in /usr/local/lib/python3.7/dist-packages (from transformers) (4.63.0)\n",
            "Requirement already satisfied: typing-extensions>=3.7.4.3 in /usr/local/lib/python3.7/dist-packages (from huggingface-hub<1.0,>=0.1.0->transformers) (3.10.0.2)\n",
            "Requirement already satisfied: pyparsing!=3.0.5,>=2.0.2 in /usr/local/lib/python3.7/dist-packages (from packaging>=20.0->transformers) (3.0.7)\n",
            "Requirement already satisfied: zipp>=0.5 in /usr/local/lib/python3.7/dist-packages (from importlib-metadata->transformers) (3.7.0)\n",
            "Requirement already satisfied: certifi>=2017.4.17 in /usr/local/lib/python3.7/dist-packages (from requests->transformers) (2021.10.8)\n",
            "Requirement already satisfied: idna<3,>=2.5 in /usr/local/lib/python3.7/dist-packages (from requests->transformers) (2.10)\n",
            "Requirement already satisfied: urllib3!=1.25.0,!=1.25.1,<1.26,>=1.21.1 in /usr/local/lib/python3.7/dist-packages (from requests->transformers) (1.24.3)\n",
            "Requirement already satisfied: chardet<4,>=3.0.2 in /usr/local/lib/python3.7/dist-packages (from requests->transformers) (3.0.4)\n",
            "Requirement already satisfied: joblib in /usr/local/lib/python3.7/dist-packages (from sacremoses->transformers) (1.1.0)\n",
            "Requirement already satisfied: click in /usr/local/lib/python3.7/dist-packages (from sacremoses->transformers) (7.1.2)\n",
            "Requirement already satisfied: six in /usr/local/lib/python3.7/dist-packages (from sacremoses->transformers) (1.15.0)\n"
          ]
        }
      ]
    },
    {
      "cell_type": "code",
      "source": [
        "import tensorflow as tf\n",
        "import torch\n",
        "from torch.utils.data import TensorDataset, DataLoader, RandomSampler, SequentialSampler\n",
        "from keras.preprocessing.sequence import pad_sequences\n",
        "from sklearn.model_selection import train_test_split\n",
        "from transformers import BertForSequenceClassification, AdamW, BertConfig\n",
        "from transformers import BertTokenizer\n",
        "from tqdm import tqdm, trange\n",
        "import pandas as pd\n",
        "import io\n",
        "import numpy as np\n",
        "import matplotlib.pyplot as plt\n",
        "import ast\n",
        "import os\n",
        "from sklearn.preprocessing import LabelEncoder\n",
        "from sklearn.metrics import confusion_matrix\n",
        "from sklearn.metrics import classification_report"
      ],
      "metadata": {
        "id": "YeTskV5noH8j"
      },
      "execution_count": null,
      "outputs": []
    },
    {
      "cell_type": "code",
      "source": [
        "pd.set_option('display.max_rows', None)"
      ],
      "metadata": {
        "id": "E3hJCt9yDnxO"
      },
      "execution_count": null,
      "outputs": []
    },
    {
      "cell_type": "code",
      "source": [
        "\n",
        "device_name = tf.test.gpu_device_name()\n",
        "if device_name != '/device:GPU:0':\n",
        "  raise SystemError('GPU device not found')\n",
        "print('Found GPU at: {}'.format(device_name))\n",
        "device = torch.device(\"cuda\" if torch.cuda.is_available() else \"cpu\")\n",
        "n_gpu = torch.cuda.device_count()\n",
        "torch.cuda.get_device_name(0)\n",
        "le = LabelEncoder()\n"
      ],
      "metadata": {
        "colab": {
          "base_uri": "https://localhost:8080/"
        },
        "id": "alw54eSMpiZn",
        "outputId": "2583e572-28b8-49b5-f0be-3f60f8bda847"
      },
      "execution_count": null,
      "outputs": [
        {
          "output_type": "stream",
          "name": "stdout",
          "text": [
            "Found GPU at: /device:GPU:0\n"
          ]
        }
      ]
    },
    {
      "cell_type": "code",
      "source": [
        "'''\n",
        "Path to biobert checkpoints, which are already converted to pytorch\n",
        "'''\n",
        "root_dir1 = \"/content/gdrive/My Drive/\"\n",
        "path_=os.path.join(root_dir1,'biobert_T')\n",
        "#VOCAB_FILE=path_+'/vocab.txt'\n",
        "#print(VOCAB_FILE)\n",
        "#tokenizer = BertTokenizer(vocab_file=VOCAB_FILE, do_lower_case=True)"
      ],
      "metadata": {
        "id": "riTK5sOEsO0z"
      },
      "execution_count": null,
      "outputs": []
    },
    {
      "cell_type": "code",
      "source": [
        "import torch\n",
        "import torch.nn as nn\n",
        "import torch.nn.functional as F\n",
        "from sklearn.metrics import accuracy_score, f1_score"
      ],
      "metadata": {
        "id": "zdlAwKrBTY45"
      },
      "execution_count": null,
      "outputs": []
    },
    {
      "cell_type": "code",
      "source": [
        "from transformers import AutoTokenizer, AutoModel,AutoConfig,AutoModelForSequenceClassification\n",
        "class Model:\n",
        "    def __init__(self,path,f1=0):\n",
        "        # self.args = args\n",
        "        self.f1=f1\n",
        "        print(\"flag status:(1:sentence pair, 0: single sentence)\",f1)\n",
        "        self.path=path\n",
        "        self.MAX_LEN=128\n",
        "        self.tokenizer = AutoTokenizer.from_pretrained(\"emilyalsentzer/Bio_ClinicalBERT\")\n",
        "        num_labels=3\n",
        "        self.config = AutoConfig.from_pretrained(\"emilyalsentzer/Bio_ClinicalBERT\",num_labels=num_labels)\n",
        "\n",
        "       \n",
        "        # if not os.path.isdir(self.opath):\n",
        "        #     os.makedirs(self.opath)\n",
        "            \n",
        "            \n",
        "    def extract_data(self,name):\n",
        "        file =self.path+name\n",
        "        df = pd.read_csv(file)\n",
        "        #print(df.head())\n",
        "        df.replace(np.nan,'NIL', inplace=True)\n",
        "        \n",
        "        sentences = df.sent.values\n",
        "        entity=df.word.values\n",
        "        labels = df.label.values\n",
        "        span=df.span.values\n",
        "        doc_id=df.doc_id.values\n",
        "        \n",
        "        \n",
        "        \n",
        "        return (sentences,entity,labels,doc_id)\n",
        "\n",
        "    def process_inputs(self,e,sentences,labels):\n",
        "      #entity=[ast.literal_eval(x) for x in e]\n",
        "      #triplets=[ast.literal_eval(x) for x in t]\n",
        "      #triplets_sents=[('_'.join(x[0:2]),'_'.join(x[2:4])) if len(x)==4 else ('_'.join(x[0:2]),'_'.join(x[1:3])) for x in triplets]\n",
        "      if self.f1==1:\n",
        "        sentences = [self.tokenizer.encode_plus(sent,e[i],add_special_tokens=True, max_length=self.MAX_LEN,truncation='longest_first') for i,sent in enumerate(sentences)]#sentence-pair\n",
        "      else:\n",
        "        sentences= [self.tokenizer.encode_plus(sent,add_special_tokens=True, max_length=self.MAX_LEN,truncation='longest_first') for i,sent in enumerate(sentences)]#single sentence\n",
        "      \n",
        "      tags_vals = list(labels)\n",
        "\n",
        "      le.fit(labels)\n",
        "      le_name_mapping = dict(zip(le.classes_, le.transform(le.classes_)))\n",
        "      print(le_name_mapping)\n",
        "      labels=le.fit_transform(labels)\n",
        "      # Use the BERT tokenizer to convert the tokens to their index numbers in the BERT vocabulary\n",
        "      input_ids = [inputs[\"input_ids\"] for inputs in sentences]\n",
        "\n",
        "      # Pad our input tokens\n",
        "      input_ids = pad_sequences(input_ids, maxlen=self.MAX_LEN,truncating=\"post\", padding=\"post\")\n",
        "      attention_masks = []\n",
        "\n",
        "      # Create a mask of 1s for each token followed by 0s for padding\n",
        "      for seq in input_ids:\n",
        "        seq_mask= [float(i>0) for i in seq]\n",
        "        attention_masks.append(seq_mask)\n",
        "\n",
        "      if self.f1==1:\n",
        "        token_type_ids=[inputs[\"token_type_ids\"] for inputs in sentences]\n",
        "        token_type_ids=pad_sequences(token_type_ids, maxlen=self.MAX_LEN,truncating=\"post\", padding=\"post\")\n",
        "\n",
        "        inputs, labels,types = input_ids, labels,token_type_ids\n",
        "      else:\n",
        "        inputs,labels=input_ids, labels\n",
        "\n",
        "      masks,_= attention_masks, input_ids\n",
        "      # Convert all of our data into torch tensors, the required datatype for our model\n",
        "\n",
        "      self.inputs = torch.tensor(inputs).to(torch.int64)\n",
        "      # validation_inputs = torch.tensor(validation_inputs).to(torch.int64)\n",
        "      self.labels = torch.tensor(labels).to(torch.int64)\n",
        "      # validation_labels = torch.tensor(validation_labels).to(torch.int64)\n",
        "      self.masks = torch.tensor(masks).to(torch.int64)\n",
        "      # validation_masks = torch.tensor(validation_masks).to(torch.int64)\n",
        "      if self.f1==1:\n",
        "        self.types=torch.tensor(types).to(torch.int64)\n",
        "        self.data = TensorDataset(self.inputs, self.types,self.masks, self.labels)\n",
        "      else:\n",
        "        self.data = TensorDataset(self.inputs, self.masks, self.labels)\n",
        "\n",
        "      self.sampler = RandomSampler(self.data)\n",
        "      self.dataloader = DataLoader(self.data, sampler=self.sampler, batch_size=32)\n",
        "\n",
        "    def process_inputs_test(self,e,sentences,labels,act_ids,batch_size=1):\n",
        "      #entity=[ast.literal_eval(x) for x in e]\n",
        "      #triplets=[ast.literal_eval(x) for x in t]\n",
        "      #triplets_sents=[('_'.join(x[0:2]),'_'.join(x[2:4])) if len(x)==4 else ('_'.join(x[0:2]),'_'.join(x[1:3])) for x in triplets]\n",
        "      if self.f1==1:\n",
        "        sentences = [self.tokenizer.encode_plus(sent,e[i],add_special_tokens=True, max_length=self.MAX_LEN,truncation='longest_first') for i,sent in enumerate(sentences)]#sentence-pair\n",
        "      else:\n",
        "        sentences= [self.tokenizer.encode_plus(sent,add_special_tokens=True, max_length=self.MAX_LEN,truncation='longest_first') for i,sent in enumerate(sentences)]#single sentence\n",
        "      sentence_idx = np.linspace(0,len(sentences), len(sentences),False)\n",
        "      torch_idx = torch.tensor(sentence_idx)\n",
        "      tags_vals = list(labels)\n",
        "\n",
        "      le.fit(labels)\n",
        "      le_name_mapping = dict(zip(le.classes_, le.transform(le.classes_)))\n",
        "      print(le_name_mapping)\n",
        "      labels=le.fit_transform(labels)\n",
        "      # Use the BERT tokenizer to convert the tokens to their index numbers in the BERT vocabulary\n",
        "      input_ids = [inputs[\"input_ids\"] for inputs in sentences]\n",
        "\n",
        "      # Pad our input tokens\n",
        "      input_ids = pad_sequences(input_ids, maxlen=self.MAX_LEN,truncating=\"post\", padding=\"post\")\n",
        "      attention_masks = []\n",
        "\n",
        "      # Create a mask of 1s for each token followed by 0s for padding\n",
        "      for seq in input_ids:\n",
        "        seq_mask= [float(i>0) for i in seq]\n",
        "        attention_masks.append(seq_mask)\n",
        "\n",
        "      if self.f1==1:\n",
        "        token_type_ids=[inputs[\"token_type_ids\"] for inputs in sentences]\n",
        "        token_type_ids=pad_sequences(token_type_ids, maxlen=self.MAX_LEN,truncating=\"post\", padding=\"post\")\n",
        "\n",
        "        inputs, labels,types = input_ids, labels,token_type_ids\n",
        "      else:\n",
        "        inputs,labels=input_ids, labels\n",
        "\n",
        "      masks,_= attention_masks, input_ids\n",
        "      # Convert all of our data into torch tensors, the required datatype for our model\n",
        "\n",
        "      self.inputs = torch.tensor(inputs).to(torch.int64)\n",
        "      # validation_inputs = torch.tensor(validation_inputs).to(torch.int64)\n",
        "      self.labels = torch.tensor(labels).to(torch.int64)\n",
        "      # validation_labels = torch.tensor(validation_labels).to(torch.int64)\n",
        "      self.masks = torch.tensor(masks).to(torch.int64)\n",
        "      self.torch_idx = torch.tensor(sentence_idx).to(torch.int64)\n",
        "      self.act_ids = torch.tensor(act_ids).to(torch.int64)\n",
        "        #self.words=torch.tensor(e).to(torch.int64)\n",
        "      # validation_masks = torch.tensor(validation_masks).to(torch.int64)\n",
        "      \n",
        "      if self.f1==1:\n",
        "        self.types=torch.tensor(types).to(torch.int64)\n",
        "        self.data = TensorDataset(self.inputs, self.types,self.masks, self.labels,self.torch_idx,self.act_ids)\n",
        "      else:\n",
        "        self.data = TensorDataset(self.inputs, self.masks, self.labels,self.torch_idx,self.act_ids)\n",
        "\n",
        "      self.sampler = RandomSampler(self.data)\n",
        "      self.dataloader = DataLoader(self.data, sampler=self.sampler, batch_size=batch_size)\n",
        "\n",
        "      # return (self.inputs,self.labels,self.masks,self.types)\n",
        "    def train_save_load(self,path_,train=1):\n",
        "      self.model = AutoModelForSequenceClassification.from_pretrained(\"emilyalsentzer/Bio_ClinicalBERT\",config=self.config)\n",
        "     \n",
        "      #self.model = BertForSequenceClassification.from_pretrained(path_, num_labels=3)\n",
        "      self.model.cuda()\n",
        "      param_optimizer = list(self.model.named_parameters())\n",
        "      no_decay = ['bias', 'gamma', 'beta']\n",
        "      optimizer_grouped_parameters = [{'params': [p for n, p in param_optimizer if not any(nd in n for nd in no_decay)], 'weight_decay_rate': 0.01},{'params': [p for n, p in param_optimizer if any(nd in n for nd in no_decay)],\n",
        "                                                                                                                                                     'weight_decay_rate': 0.0}]\n",
        "      #optimizer = AdamW(optimizer_grouped_parameters,lr=2e-5)\n",
        "      optimizer = torch.optim.AdamW(optimizer_grouped_parameters,lr=2e-5)\n",
        "      \n",
        "      WEIGHTS_NAME = \"CMED_clinicalpair.bin\"\n",
        "      OUTPUT_DIR = root_dir+\"/models/\"\n",
        "      output_model_file = os.path.join(OUTPUT_DIR, WEIGHTS_NAME)\n",
        "      train_loss_set = []\n",
        "      epochs = 4\n",
        "      import time\n",
        "      start_time = time.time()\n",
        "      if train==1:\n",
        "        for _ in trange(epochs, desc=\"Epoch\"):\n",
        "          # Trainin\n",
        "          # Set our model to training mode (as opposed to evaluation mode\n",
        "          self.model.train()\n",
        "          # Tracking variables\n",
        "          tr_loss = 0\n",
        "          nb_tr_examples, nb_tr_steps = 0, 0\n",
        "          # Train the data for one epoch\n",
        "          for step, batch in enumerate(self.dataloader):\n",
        "            # Add batch to GPU\n",
        "            batch = tuple(t.to(device) for t in batch)\n",
        "            if self.f1==1:\n",
        "              b_input_ids, b_token_type,b_input_mask, b_labels = batch\n",
        "            else:\n",
        "              b_input_ids, b_input_mask, b_labels = batch\n",
        "            # Clear out the gradients (by default they accumulate)\n",
        "            optimizer.zero_grad()\n",
        "            # Forward pass\n",
        "            # loss = model(b_input_ids, token_type_ids=b_types, attention_mask=b_input_mask, labels=b_labels)\n",
        "            if self.f1==1:\n",
        "              loss,logits= self.model(b_input_ids, token_type_ids=b_token_type, attention_mask=b_input_mask, labels=b_labels,return_dict=False)\n",
        "            else:\n",
        "              loss,logits= self.model(b_input_ids, attention_mask=b_input_mask, labels=b_labels,return_dict=False)\n",
        "\n",
        "            train_loss_set.append(loss.item())    \n",
        "            # Backward pass\n",
        "            loss.backward()\n",
        "            # Update parameters and take a step using the computed gradient\n",
        "            optimizer.step()\n",
        "            # Update tracking variables\n",
        "            tr_loss += loss.item()\n",
        "            nb_tr_examples += b_input_ids.size(0)\n",
        "            nb_tr_steps += 1\n",
        "          print(\"Train loss: {}\".format(tr_loss/nb_tr_steps))\n",
        "        print(\"--- %s seconds ---\" % (time.time() - start_time)) \n",
        "        torch.save(self.model.state_dict(), output_model_file)\n",
        "      else:\n",
        "        state_dict = torch.load(output_model_file)\n",
        "        self.model.load_state_dict(state_dict) \n",
        "    def test(self):\n",
        "      # Put model in evaluation mod\n",
        "      self.model.eval()\n",
        "      # Tracking variables \n",
        "      self.predictions , self.true_labels = [], []\n",
        "      # Predict \n",
        "      for batch in self.dataloader:\n",
        "        # Add batch to GPU\n",
        "        batch = tuple(t.to(device) for t in batch)\n",
        "        # Unpack the inputs from our dataloader\n",
        "        if self.f1==1:\n",
        "          b_input_ids,b_type, b_input_mask, b_labels = batch\n",
        "        else:\n",
        "          b_input_ids,b_input_mask, b_labels = batch\n",
        "        # # Telling the model not to compute or store gradients, saving memory and speeding up prediction\n",
        "        with torch.no_grad():\n",
        "          # Forward pass, calculate logit predictions\n",
        "          if self.f1==1:\n",
        "            outputs = self.model(b_input_ids, token_type_ids=b_type, attention_mask=b_input_mask)\n",
        "          else:\n",
        "            outputs = self.model(b_input_ids, attention_mask=b_input_mask)\n",
        "        logits=outputs[0]\n",
        "        # Move logits and labels to CPU\n",
        "        logits = logits.detach().cpu().numpy()\n",
        "        label_ids = b_labels.to('cpu').numpy()\n",
        "        # Store predictions and true labels\n",
        "        self.predictions.append(logits)\n",
        "        self.true_labels.append(label_ids)\n",
        "    def compute(self):\n",
        "      flat_true_labels1=[]\n",
        "      # Flatten the predictions and true values \n",
        "      flat_predictions = [item for sublist in self.predictions for item in sublist]\n",
        "      flat_predictions = np.argmax(flat_predictions, axis=1).flatten()\n",
        "      flat_true_labels = [item for sublist in self.true_labels for item in sublist]\n",
        "      print('Classification Report')\n",
        "      labels_test=flat_predictions\n",
        "      print(classification_report(flat_true_labels,flat_predictions))\n",
        "      print(confusion_matrix(flat_true_labels,flat_predictions))\n",
        "\n",
        "    def test_id(self,sents,words,doc_id):\n",
        "        batch_size=32\n",
        "        # Put model in evaluation mod\n",
        "        self.model.eval()\n",
        "        # Tracking variables \n",
        "        self.predictions ,self.true_labels,self.sents,self.actsents = [], [],[],[]\n",
        "        output_dicts=[]\n",
        "      \n",
        "        \n",
        "        for batch in self.dataloader:\n",
        "          # Add batch to GPU\n",
        "          batch = tuple(t.to(device) for t in batch)\n",
        "          # Unpack the inputs from our dataloader\n",
        "          b_input_ids,b_type,b_input_mask, b_labels,b_index,b_ids = batch\n",
        "          # # Telling the model not to compute or store gradients, saving memory and speeding up prediction\n",
        "          with torch.no_grad():\n",
        "            # Forward pass, calculate logit predictions\n",
        "            if self.f1==1:\n",
        "              outputs = self.model(b_input_ids, token_type_ids=b_type, attention_mask=b_input_mask)\n",
        "            else:\n",
        "              outputs = self.model(b_input_ids, attention_mask=b_input_mask)\n",
        "            logits=outputs[0]\n",
        "            \n",
        "\n",
        "            for j in range(logits.size(0)):\n",
        "              probs = F.softmax(logits[j], -1)\n",
        "              output_dict = {\n",
        "                  # 'index': batch_size * i + j,\n",
        "                  'true': b_labels[j].cpu().numpy().tolist(),\n",
        "                  'pred': logits[j].argmax().item(),\n",
        "                  'conf': probs.max().item(),\n",
        "                  'logits': logits[j].cpu().numpy().tolist(),\n",
        "                  'probs': probs.cpu().numpy().tolist(),\n",
        "                  'actsent_ids'   : b_ids[j].cpu().numpy().tolist(),\n",
        "                  'sent_ids'   : b_index[j].cpu().numpy().tolist(),\n",
        "                  'sents' : sents[b_index[j]],\n",
        "                  'words': words[b_index[j]],\n",
        "                  'doc_id': doc_id[b_index[j]]\n",
        "              }\n",
        "              output_dicts.append(output_dict)\n",
        "        y_true = [output_dict['true'] for output_dict in output_dicts]\n",
        "        y_pred = [output_dict['pred'] for output_dict in output_dicts]\n",
        "        y_conf = [output_dict['conf'] for output_dict in output_dicts]\n",
        "\n",
        "        accuracy = accuracy_score(y_true, y_pred) * 100.\n",
        "        fscore = f1_score(y_true, y_pred, average='macro') * 100.\n",
        "        confidence = np.mean(y_conf) * 100.\n",
        "\n",
        "        results_dict = {\n",
        "            'accuracy': accuracy_score(y_true, y_pred) * 100.,\n",
        "            'macro-F1': f1_score(y_true, y_pred, average='macro') * 100.,\n",
        "            'confidence': np.mean(y_conf) * 100.,\n",
        "        }\n",
        "        #print(results_dict)\n",
        "        print(classification_report(y_true,y_pred))\n",
        "        print(confusion_matrix(y_true,y_pred))\n",
        "        return output_dicts"
      ],
      "metadata": {
        "id": "a4ts3sS5plMh"
      },
      "execution_count": null,
      "outputs": []
    },
    {
      "cell_type": "code",
      "source": [
        "root_dir"
      ],
      "metadata": {
        "colab": {
          "base_uri": "https://localhost:8080/",
          "height": 35
        },
        "id": "ul867NlzvzqX",
        "outputId": "cb090a3e-8c23-4de1-dafe-e7f9b6cd4b36"
      },
      "execution_count": null,
      "outputs": [
        {
          "output_type": "execute_result",
          "data": {
            "text/plain": [
              "'/content/gdrive/My Drive/CMED_Harvard_Shared_task//trainingdata_v3/'"
            ],
            "application/vnd.google.colaboratory.intrinsic+json": {
              "type": "string"
            }
          },
          "metadata": {},
          "execution_count": 156
        }
      ]
    },
    {
      "cell_type": "code",
      "source": [
        "path=root_dir\n",
        "m = Model(path,f1=1)"
      ],
      "metadata": {
        "id": "OmuWkP-ru_w1",
        "colab": {
          "base_uri": "https://localhost:8080/"
        },
        "outputId": "cdf0b446-149a-4eab-e679-62f32815ca4f"
      },
      "execution_count": null,
      "outputs": [
        {
          "output_type": "stream",
          "name": "stdout",
          "text": [
            "flag status:(1:sentence pair, 0: single sentence) 1\n"
          ]
        }
      ]
    },
    {
      "cell_type": "code",
      "source": [
        "sentences_train,entity_train,labels_train,doc_id_train=m.extract_data('train.csv')\n"
      ],
      "metadata": {
        "id": "1PV_-e98vKvb"
      },
      "execution_count": null,
      "outputs": []
    },
    {
      "cell_type": "code",
      "source": [
        "sentences_train[0:10]"
      ],
      "metadata": {
        "id": "9n3DcRZtwxQF"
      },
      "execution_count": null,
      "outputs": []
    },
    {
      "cell_type": "code",
      "source": [
        "labels_train[0:10]"
      ],
      "metadata": {
        "id": "-NvEQ7buxUpM",
        "colab": {
          "base_uri": "https://localhost:8080/"
        },
        "outputId": "6512ebc2-510e-4670-cfdd-bff1b9102358"
      },
      "execution_count": null,
      "outputs": [
        {
          "output_type": "execute_result",
          "data": {
            "text/plain": [
              "array(['Disposition ', 'Disposition ', 'Disposition ', 'Disposition ',\n",
              "       'Disposition ', 'Disposition ', 'NoDisposition ', 'NoDisposition ',\n",
              "       'Disposition ', 'NoDisposition '], dtype=object)"
            ]
          },
          "metadata": {},
          "execution_count": 174
        }
      ]
    },
    {
      "cell_type": "code",
      "source": [
        "print(len(sentences_train),len(entity_train),len(labels_train))"
      ],
      "metadata": {
        "colab": {
          "base_uri": "https://localhost:8080/"
        },
        "id": "ByQQeby8wAMv",
        "outputId": "ed1aeca3-d57a-4a42-ef47-62dc6817dee4"
      },
      "execution_count": null,
      "outputs": [
        {
          "output_type": "stream",
          "name": "stdout",
          "text": [
            "6196 6196 6196\n"
          ]
        }
      ]
    },
    {
      "cell_type": "code",
      "source": [
        "\n",
        "m.process_inputs(entity_train,sentences_train,labels_train)\n",
        "\n",
        "#path_=os.path.join(root_dir1,'biobert_T')\n",
        "\n",
        "\n"
      ],
      "metadata": {
        "colab": {
          "base_uri": "https://localhost:8080/"
        },
        "id": "aWU8GtxJwCha",
        "outputId": "4fcff40e-e0cd-4453-9dac-c6f0a61dd2ce"
      },
      "execution_count": null,
      "outputs": [
        {
          "output_type": "stream",
          "name": "stdout",
          "text": [
            "{'Disposition ': 0, 'NoDisposition ': 1, 'Undetermined ': 2}\n"
          ]
        }
      ]
    },
    {
      "cell_type": "code",
      "source": [
        "#Train the model from scratch\n",
        "m.train_save_load(path_,train=1)"
      ],
      "metadata": {
        "colab": {
          "base_uri": "https://localhost:8080/"
        },
        "id": "4AtaQDPCxicR",
        "outputId": "0126637a-7d69-46be-ad45-85c0d83a7909"
      },
      "execution_count": null,
      "outputs": [
        {
          "output_type": "stream",
          "name": "stderr",
          "text": [
            "Some weights of the model checkpoint at emilyalsentzer/Bio_ClinicalBERT were not used when initializing BertForSequenceClassification: ['cls.predictions.transform.dense.bias', 'cls.predictions.transform.dense.weight', 'cls.predictions.decoder.weight', 'cls.seq_relationship.bias', 'cls.predictions.bias', 'cls.seq_relationship.weight', 'cls.predictions.transform.LayerNorm.weight', 'cls.predictions.transform.LayerNorm.bias']\n",
            "- This IS expected if you are initializing BertForSequenceClassification from the checkpoint of a model trained on another task or with another architecture (e.g. initializing a BertForSequenceClassification model from a BertForPreTraining model).\n",
            "- This IS NOT expected if you are initializing BertForSequenceClassification from the checkpoint of a model that you expect to be exactly identical (initializing a BertForSequenceClassification model from a BertForSequenceClassification model).\n",
            "Some weights of BertForSequenceClassification were not initialized from the model checkpoint at emilyalsentzer/Bio_ClinicalBERT and are newly initialized: ['classifier.weight', 'classifier.bias']\n",
            "You should probably TRAIN this model on a down-stream task to be able to use it for predictions and inference.\n",
            "Epoch:  25%|██▌       | 1/4 [02:03<06:09, 123.23s/it]"
          ]
        },
        {
          "output_type": "stream",
          "name": "stdout",
          "text": [
            "Train loss: 0.5718301748184814\n"
          ]
        },
        {
          "output_type": "stream",
          "name": "stderr",
          "text": [
            "\rEpoch:  50%|█████     | 2/4 [04:05<04:05, 122.72s/it]"
          ]
        },
        {
          "output_type": "stream",
          "name": "stdout",
          "text": [
            "Train loss: 0.3582690090094645\n"
          ]
        },
        {
          "output_type": "stream",
          "name": "stderr",
          "text": [
            "\rEpoch:  75%|███████▌  | 3/4 [06:07<02:02, 122.33s/it]"
          ]
        },
        {
          "output_type": "stream",
          "name": "stdout",
          "text": [
            "Train loss: 0.2464298645860141\n"
          ]
        },
        {
          "output_type": "stream",
          "name": "stderr",
          "text": [
            "Epoch: 100%|██████████| 4/4 [08:09<00:00, 122.34s/it]"
          ]
        },
        {
          "output_type": "stream",
          "name": "stdout",
          "text": [
            "Train loss: 0.16854178746106083\n",
            "--- 489.38185691833496 seconds ---\n"
          ]
        },
        {
          "output_type": "stream",
          "name": "stderr",
          "text": [
            "\n"
          ]
        }
      ]
    },
    {
      "cell_type": "code",
      "source": [
        "m.train_save_load(path_,train=0)"
      ],
      "metadata": {
        "id": "9usjHx9EUsDF"
      },
      "execution_count": null,
      "outputs": []
    },
    {
      "cell_type": "code",
      "source": [
        "#single sentence\n",
        "m.process_inputs(entity_train,sentences_train,labels_train)\n",
        "\n",
        "path_=os.path.join(root_dir1,'biobert_T')"
      ],
      "metadata": {
        "colab": {
          "base_uri": "https://localhost:8080/"
        },
        "id": "-Zt0CHOg7Pcd",
        "outputId": "8de3f511-57c8-47de-ea5b-4c2ad4807277"
      },
      "execution_count": null,
      "outputs": [
        {
          "output_type": "stream",
          "name": "stdout",
          "text": [
            "{'Disposition ': 0, 'NoDisposition ': 1, 'Undetermined ': 2}\n"
          ]
        }
      ]
    },
    {
      "cell_type": "code",
      "source": [
        "m.train_save_load(path_,train=1)#single sentence"
      ],
      "metadata": {
        "id": "8CYUP2Qj7Se9"
      },
      "execution_count": null,
      "outputs": []
    },
    {
      "cell_type": "code",
      "source": [
        "sentences_dev,entity_dev,labels_dev,doc_id_dev=m.extract_data('dev.csv')\n",
        "act_ids=[]\n",
        "\n",
        "#process_inputs_test(self,e,sentences,labels,act_ids,batch_size=1)\n",
        "for i,sent in enumerate(sentences_dev):\n",
        "  act_ids.append(i)\n",
        "  \n",
        "\n",
        "\n"
      ],
      "metadata": {
        "id": "b2BrDTRWA47j"
      },
      "execution_count": null,
      "outputs": []
    },
    {
      "cell_type": "code",
      "source": [
        "m.process_inputs_test(entity_dev,sentences_dev,labels_dev,act_ids)"
      ],
      "metadata": {
        "colab": {
          "base_uri": "https://localhost:8080/"
        },
        "id": "sYuIUi6hU2V6",
        "outputId": "cc6ed47a-e781-46f9-c53b-44c839458c25"
      },
      "execution_count": null,
      "outputs": [
        {
          "output_type": "stream",
          "name": "stdout",
          "text": [
            "{'Disposition ': 0, 'NoDisposition ': 1, 'Undetermined ': 2}\n"
          ]
        }
      ]
    },
    {
      "cell_type": "code",
      "source": [
        "\n",
        "out=m.test_id(sentences_dev,entity_dev,doc_id_dev)\n",
        "\n",
        "#m.compute()"
      ],
      "metadata": {
        "colab": {
          "base_uri": "https://localhost:8080/"
        },
        "id": "4MguLkhCA6vw",
        "outputId": "a4702acf-9773-4009-ad2f-30e875819076"
      },
      "execution_count": null,
      "outputs": [
        {
          "output_type": "stream",
          "name": "stdout",
          "text": [
            "              precision    recall  f1-score   support\n",
            "\n",
            "           0       0.88      0.81      0.85       221\n",
            "           1       0.90      0.97      0.93       725\n",
            "           2       0.60      0.33      0.43        87\n",
            "\n",
            "    accuracy                           0.88      1033\n",
            "   macro avg       0.79      0.70      0.73      1033\n",
            "weighted avg       0.87      0.88      0.87      1033\n",
            "\n",
            "[[180  29  12]\n",
            " [ 18 700   7]\n",
            " [  7  51  29]]\n"
          ]
        }
      ]
    },
    {
      "cell_type": "code",
      "source": [
        "out[1]"
      ],
      "metadata": {
        "colab": {
          "base_uri": "https://localhost:8080/"
        },
        "id": "i3Cc8JEqW4eS",
        "outputId": "959bc804-2c6b-44c8-a80d-b475420d21f5"
      },
      "execution_count": null,
      "outputs": [
        {
          "output_type": "execute_result",
          "data": {
            "text/plain": [
              "{'actsent_ids': 168,\n",
              " 'conf': 0.9788994193077087,\n",
              " 'doc_id': '376-02',\n",
              " 'logits': [-1.3231489658355713, 3.241909980773926, -1.254746913909912],\n",
              " 'pred': 1,\n",
              " 'probs': [0.01018962636590004, 0.9788994193077087, 0.010911006480455399],\n",
              " 'sent_ids': 168,\n",
              " 'sents': '(LISINOPRIL/HYDROCLOROTH...\\t ',\n",
              " 'true': 1,\n",
              " 'words': 'LISINOPRIL/HYDROCLOROTH'}"
            ]
          },
          "metadata": {},
          "execution_count": 193
        }
      ]
    },
    {
      "cell_type": "code",
      "source": [
        "df_cmed = pd.DataFrame(out)"
      ],
      "metadata": {
        "id": "A3qDr2N1XJnM"
      },
      "execution_count": null,
      "outputs": []
    },
    {
      "cell_type": "code",
      "source": [
        "df_cmed1=df_cmed.drop(columns=[\"logits\",\"probs\",\"sent_ids\",\"conf\"])"
      ],
      "metadata": {
        "id": "H95ZLNPKVDkv"
      },
      "execution_count": null,
      "outputs": []
    },
    {
      "cell_type": "code",
      "source": [
        "df_cmed1.to_csv(root_dir+\"/all_predictions_coarse_grained_classif_BERTpair\")"
      ],
      "metadata": {
        "id": "mZHs-hYVU_4y"
      },
      "execution_count": null,
      "outputs": []
    },
    {
      "cell_type": "code",
      "source": [
        "false=df_cmed[df_cmed[\"true\"]!=df_cmed[\"pred\"]]"
      ],
      "metadata": {
        "id": "DRTm5u9jX1Cm"
      },
      "execution_count": null,
      "outputs": []
    },
    {
      "cell_type": "code",
      "source": [
        "pd.set_option('display.max_colwidth', None)"
      ],
      "metadata": {
        "id": "4v5ZCFkdGQlz"
      },
      "execution_count": null,
      "outputs": []
    },
    {
      "cell_type": "code",
      "source": [
        "false1.head()"
      ],
      "metadata": {
        "colab": {
          "base_uri": "https://localhost:8080/",
          "height": 206
        },
        "id": "STg4yaEHYb3N",
        "outputId": "efa6083a-5043-473b-a39e-d447b16110c5"
      },
      "execution_count": null,
      "outputs": [
        {
          "output_type": "execute_result",
          "data": {
            "text/plain": [
              "    true  pred  actsent_ids  \\\n",
              "8      0     1          620   \n",
              "14     2     1           75   \n",
              "17     2     1          869   \n",
              "18     1     0          766   \n",
              "26     1     2          401   \n",
              "\n",
              "                                                                                   sents  \\\n",
              "8            Continue depakote and lithium (had subthereapeutic level that psych thought   \n",
              "14                                                              1.   Tears and Saliva.\\n   \n",
              "17                                                                        folate 1 mg      \n",
              "18  and she was at that time\\non lisinopril as well as her other diabetic medications.     \n",
              "26                                                                      and \\nprednisone   \n",
              "\n",
              "         words  doc_id  \n",
              "8     depakote  100-04  \n",
              "14       Tears  172-01  \n",
              "17      folate  131-05  \n",
              "18  lisinopril  302-04  \n",
              "26  prednisone  187-02  "
            ],
            "text/html": [
              "\n",
              "  <div id=\"df-842f033b-b570-4359-a745-3ab10caba73e\">\n",
              "    <div class=\"colab-df-container\">\n",
              "      <div>\n",
              "<style scoped>\n",
              "    .dataframe tbody tr th:only-of-type {\n",
              "        vertical-align: middle;\n",
              "    }\n",
              "\n",
              "    .dataframe tbody tr th {\n",
              "        vertical-align: top;\n",
              "    }\n",
              "\n",
              "    .dataframe thead th {\n",
              "        text-align: right;\n",
              "    }\n",
              "</style>\n",
              "<table border=\"1\" class=\"dataframe\">\n",
              "  <thead>\n",
              "    <tr style=\"text-align: right;\">\n",
              "      <th></th>\n",
              "      <th>true</th>\n",
              "      <th>pred</th>\n",
              "      <th>actsent_ids</th>\n",
              "      <th>sents</th>\n",
              "      <th>words</th>\n",
              "      <th>doc_id</th>\n",
              "    </tr>\n",
              "  </thead>\n",
              "  <tbody>\n",
              "    <tr>\n",
              "      <th>8</th>\n",
              "      <td>0</td>\n",
              "      <td>1</td>\n",
              "      <td>620</td>\n",
              "      <td>Continue depakote and lithium (had subthereapeutic level that psych thought</td>\n",
              "      <td>depakote</td>\n",
              "      <td>100-04</td>\n",
              "    </tr>\n",
              "    <tr>\n",
              "      <th>14</th>\n",
              "      <td>2</td>\n",
              "      <td>1</td>\n",
              "      <td>75</td>\n",
              "      <td>1.   Tears and Saliva.\\n</td>\n",
              "      <td>Tears</td>\n",
              "      <td>172-01</td>\n",
              "    </tr>\n",
              "    <tr>\n",
              "      <th>17</th>\n",
              "      <td>2</td>\n",
              "      <td>1</td>\n",
              "      <td>869</td>\n",
              "      <td>folate 1 mg</td>\n",
              "      <td>folate</td>\n",
              "      <td>131-05</td>\n",
              "    </tr>\n",
              "    <tr>\n",
              "      <th>18</th>\n",
              "      <td>1</td>\n",
              "      <td>0</td>\n",
              "      <td>766</td>\n",
              "      <td>and she was at that time\\non lisinopril as well as her other diabetic medications.</td>\n",
              "      <td>lisinopril</td>\n",
              "      <td>302-04</td>\n",
              "    </tr>\n",
              "    <tr>\n",
              "      <th>26</th>\n",
              "      <td>1</td>\n",
              "      <td>2</td>\n",
              "      <td>401</td>\n",
              "      <td>and \\nprednisone</td>\n",
              "      <td>prednisone</td>\n",
              "      <td>187-02</td>\n",
              "    </tr>\n",
              "  </tbody>\n",
              "</table>\n",
              "</div>\n",
              "      <button class=\"colab-df-convert\" onclick=\"convertToInteractive('df-842f033b-b570-4359-a745-3ab10caba73e')\"\n",
              "              title=\"Convert this dataframe to an interactive table.\"\n",
              "              style=\"display:none;\">\n",
              "        \n",
              "  <svg xmlns=\"http://www.w3.org/2000/svg\" height=\"24px\"viewBox=\"0 0 24 24\"\n",
              "       width=\"24px\">\n",
              "    <path d=\"M0 0h24v24H0V0z\" fill=\"none\"/>\n",
              "    <path d=\"M18.56 5.44l.94 2.06.94-2.06 2.06-.94-2.06-.94-.94-2.06-.94 2.06-2.06.94zm-11 1L8.5 8.5l.94-2.06 2.06-.94-2.06-.94L8.5 2.5l-.94 2.06-2.06.94zm10 10l.94 2.06.94-2.06 2.06-.94-2.06-.94-.94-2.06-.94 2.06-2.06.94z\"/><path d=\"M17.41 7.96l-1.37-1.37c-.4-.4-.92-.59-1.43-.59-.52 0-1.04.2-1.43.59L10.3 9.45l-7.72 7.72c-.78.78-.78 2.05 0 2.83L4 21.41c.39.39.9.59 1.41.59.51 0 1.02-.2 1.41-.59l7.78-7.78 2.81-2.81c.8-.78.8-2.07 0-2.86zM5.41 20L4 18.59l7.72-7.72 1.47 1.35L5.41 20z\"/>\n",
              "  </svg>\n",
              "      </button>\n",
              "      \n",
              "  <style>\n",
              "    .colab-df-container {\n",
              "      display:flex;\n",
              "      flex-wrap:wrap;\n",
              "      gap: 12px;\n",
              "    }\n",
              "\n",
              "    .colab-df-convert {\n",
              "      background-color: #E8F0FE;\n",
              "      border: none;\n",
              "      border-radius: 50%;\n",
              "      cursor: pointer;\n",
              "      display: none;\n",
              "      fill: #1967D2;\n",
              "      height: 32px;\n",
              "      padding: 0 0 0 0;\n",
              "      width: 32px;\n",
              "    }\n",
              "\n",
              "    .colab-df-convert:hover {\n",
              "      background-color: #E2EBFA;\n",
              "      box-shadow: 0px 1px 2px rgba(60, 64, 67, 0.3), 0px 1px 3px 1px rgba(60, 64, 67, 0.15);\n",
              "      fill: #174EA6;\n",
              "    }\n",
              "\n",
              "    [theme=dark] .colab-df-convert {\n",
              "      background-color: #3B4455;\n",
              "      fill: #D2E3FC;\n",
              "    }\n",
              "\n",
              "    [theme=dark] .colab-df-convert:hover {\n",
              "      background-color: #434B5C;\n",
              "      box-shadow: 0px 1px 3px 1px rgba(0, 0, 0, 0.15);\n",
              "      filter: drop-shadow(0px 1px 2px rgba(0, 0, 0, 0.3));\n",
              "      fill: #FFFFFF;\n",
              "    }\n",
              "  </style>\n",
              "\n",
              "      <script>\n",
              "        const buttonEl =\n",
              "          document.querySelector('#df-842f033b-b570-4359-a745-3ab10caba73e button.colab-df-convert');\n",
              "        buttonEl.style.display =\n",
              "          google.colab.kernel.accessAllowed ? 'block' : 'none';\n",
              "\n",
              "        async function convertToInteractive(key) {\n",
              "          const element = document.querySelector('#df-842f033b-b570-4359-a745-3ab10caba73e');\n",
              "          const dataTable =\n",
              "            await google.colab.kernel.invokeFunction('convertToInteractive',\n",
              "                                                     [key], {});\n",
              "          if (!dataTable) return;\n",
              "\n",
              "          const docLinkHtml = 'Like what you see? Visit the ' +\n",
              "            '<a target=\"_blank\" href=https://colab.research.google.com/notebooks/data_table.ipynb>data table notebook</a>'\n",
              "            + ' to learn more about interactive tables.';\n",
              "          element.innerHTML = '';\n",
              "          dataTable['output_type'] = 'display_data';\n",
              "          await google.colab.output.renderOutput(dataTable, element);\n",
              "          const docLink = document.createElement('div');\n",
              "          docLink.innerHTML = docLinkHtml;\n",
              "          element.appendChild(docLink);\n",
              "        }\n",
              "      </script>\n",
              "    </div>\n",
              "  </div>\n",
              "  "
            ]
          },
          "metadata": {},
          "execution_count": 202
        }
      ]
    },
    {
      "cell_type": "code",
      "source": [
        "false1.to_csv(root_dir+\"/false_predictions_coarse_grained_classif_BERTpair\")"
      ],
      "metadata": {
        "id": "BLX2yWGZ7zDv"
      },
      "execution_count": null,
      "outputs": []
    },
    {
      "cell_type": "code",
      "source": [
        "f=false1[(false1.true==2) & (false1.pred==1)]"
      ],
      "metadata": {
        "id": "J68OzH7_-Ldo"
      },
      "execution_count": null,
      "outputs": []
    },
    {
      "cell_type": "code",
      "source": [
        "f.head()"
      ],
      "metadata": {
        "colab": {
          "base_uri": "https://localhost:8080/",
          "height": 285
        },
        "id": "WJzIp0RB-X7B",
        "outputId": "4e9edcc6-1196-4bae-d164-a3816401c6d4"
      },
      "execution_count": null,
      "outputs": [
        {
          "output_type": "execute_result",
          "data": {
            "text/plain": [
              "     true  pred  actsent_ids  \\\n",
              "14      2     1           75   \n",
              "17      2     1          869   \n",
              "61      2     1          647   \n",
              "86      2     1          567   \n",
              "133     2     1          915   \n",
              "\n",
              "                                                                                                                                                                                                                                                                                                                                                                                                                               sents  \\\n",
              "14                                                                                                                                                                                                                                                                                                                                                                                                          1.   Tears and Saliva.\\n   \n",
              "17                                                                                                                                                                                                                                                                                                                                                                                                                    folate 1 mg      \n",
              "61   In the meantime continue on the Lamictal 100 mg twice a day as a \\nstabilizer, Risperdal 0.25 mg per day as a mood stabilizer, the \\ntestolactone 50 mg 4 times a day to increase the availability of \\ntestosterone, the Clomid (clomiphene citrate) 50 mg per day to decrease \\nestradiol, Levoxyl 50 mcg twice a day, Altace 10 mg twice a day regarding \\nhypertension, and ibuprofen 800 mg twice a day for low back pain.   \n",
              "86                                                                                                                                                                                                                                                                                                                                                                                                      Proventil  two puffs inhaled   \n",
              "133                                                                                                                                                                                                                                                                                                                                                                                                              -advair, spiriva.     \n",
              "\n",
              "         words  doc_id  \n",
              "14       Tears  172-01  \n",
              "17      folate  131-05  \n",
              "61   Risperdal  187-01  \n",
              "86   Proventil  188-02  \n",
              "133    spiriva  389-02  "
            ],
            "text/html": [
              "\n",
              "  <div id=\"df-b63f5fa2-3b34-47a3-8f11-a880cbc23a2a\">\n",
              "    <div class=\"colab-df-container\">\n",
              "      <div>\n",
              "<style scoped>\n",
              "    .dataframe tbody tr th:only-of-type {\n",
              "        vertical-align: middle;\n",
              "    }\n",
              "\n",
              "    .dataframe tbody tr th {\n",
              "        vertical-align: top;\n",
              "    }\n",
              "\n",
              "    .dataframe thead th {\n",
              "        text-align: right;\n",
              "    }\n",
              "</style>\n",
              "<table border=\"1\" class=\"dataframe\">\n",
              "  <thead>\n",
              "    <tr style=\"text-align: right;\">\n",
              "      <th></th>\n",
              "      <th>true</th>\n",
              "      <th>pred</th>\n",
              "      <th>actsent_ids</th>\n",
              "      <th>sents</th>\n",
              "      <th>words</th>\n",
              "      <th>doc_id</th>\n",
              "    </tr>\n",
              "  </thead>\n",
              "  <tbody>\n",
              "    <tr>\n",
              "      <th>14</th>\n",
              "      <td>2</td>\n",
              "      <td>1</td>\n",
              "      <td>75</td>\n",
              "      <td>1.   Tears and Saliva.\\n</td>\n",
              "      <td>Tears</td>\n",
              "      <td>172-01</td>\n",
              "    </tr>\n",
              "    <tr>\n",
              "      <th>17</th>\n",
              "      <td>2</td>\n",
              "      <td>1</td>\n",
              "      <td>869</td>\n",
              "      <td>folate 1 mg</td>\n",
              "      <td>folate</td>\n",
              "      <td>131-05</td>\n",
              "    </tr>\n",
              "    <tr>\n",
              "      <th>61</th>\n",
              "      <td>2</td>\n",
              "      <td>1</td>\n",
              "      <td>647</td>\n",
              "      <td>In the meantime continue on the Lamictal 100 mg twice a day as a \\nstabilizer, Risperdal 0.25 mg per day as a mood stabilizer, the \\ntestolactone 50 mg 4 times a day to increase the availability of \\ntestosterone, the Clomid (clomiphene citrate) 50 mg per day to decrease \\nestradiol, Levoxyl 50 mcg twice a day, Altace 10 mg twice a day regarding \\nhypertension, and ibuprofen 800 mg twice a day for low back pain.</td>\n",
              "      <td>Risperdal</td>\n",
              "      <td>187-01</td>\n",
              "    </tr>\n",
              "    <tr>\n",
              "      <th>86</th>\n",
              "      <td>2</td>\n",
              "      <td>1</td>\n",
              "      <td>567</td>\n",
              "      <td>Proventil  two puffs inhaled</td>\n",
              "      <td>Proventil</td>\n",
              "      <td>188-02</td>\n",
              "    </tr>\n",
              "    <tr>\n",
              "      <th>133</th>\n",
              "      <td>2</td>\n",
              "      <td>1</td>\n",
              "      <td>915</td>\n",
              "      <td>-advair, spiriva.</td>\n",
              "      <td>spiriva</td>\n",
              "      <td>389-02</td>\n",
              "    </tr>\n",
              "  </tbody>\n",
              "</table>\n",
              "</div>\n",
              "      <button class=\"colab-df-convert\" onclick=\"convertToInteractive('df-b63f5fa2-3b34-47a3-8f11-a880cbc23a2a')\"\n",
              "              title=\"Convert this dataframe to an interactive table.\"\n",
              "              style=\"display:none;\">\n",
              "        \n",
              "  <svg xmlns=\"http://www.w3.org/2000/svg\" height=\"24px\"viewBox=\"0 0 24 24\"\n",
              "       width=\"24px\">\n",
              "    <path d=\"M0 0h24v24H0V0z\" fill=\"none\"/>\n",
              "    <path d=\"M18.56 5.44l.94 2.06.94-2.06 2.06-.94-2.06-.94-.94-2.06-.94 2.06-2.06.94zm-11 1L8.5 8.5l.94-2.06 2.06-.94-2.06-.94L8.5 2.5l-.94 2.06-2.06.94zm10 10l.94 2.06.94-2.06 2.06-.94-2.06-.94-.94-2.06-.94 2.06-2.06.94z\"/><path d=\"M17.41 7.96l-1.37-1.37c-.4-.4-.92-.59-1.43-.59-.52 0-1.04.2-1.43.59L10.3 9.45l-7.72 7.72c-.78.78-.78 2.05 0 2.83L4 21.41c.39.39.9.59 1.41.59.51 0 1.02-.2 1.41-.59l7.78-7.78 2.81-2.81c.8-.78.8-2.07 0-2.86zM5.41 20L4 18.59l7.72-7.72 1.47 1.35L5.41 20z\"/>\n",
              "  </svg>\n",
              "      </button>\n",
              "      \n",
              "  <style>\n",
              "    .colab-df-container {\n",
              "      display:flex;\n",
              "      flex-wrap:wrap;\n",
              "      gap: 12px;\n",
              "    }\n",
              "\n",
              "    .colab-df-convert {\n",
              "      background-color: #E8F0FE;\n",
              "      border: none;\n",
              "      border-radius: 50%;\n",
              "      cursor: pointer;\n",
              "      display: none;\n",
              "      fill: #1967D2;\n",
              "      height: 32px;\n",
              "      padding: 0 0 0 0;\n",
              "      width: 32px;\n",
              "    }\n",
              "\n",
              "    .colab-df-convert:hover {\n",
              "      background-color: #E2EBFA;\n",
              "      box-shadow: 0px 1px 2px rgba(60, 64, 67, 0.3), 0px 1px 3px 1px rgba(60, 64, 67, 0.15);\n",
              "      fill: #174EA6;\n",
              "    }\n",
              "\n",
              "    [theme=dark] .colab-df-convert {\n",
              "      background-color: #3B4455;\n",
              "      fill: #D2E3FC;\n",
              "    }\n",
              "\n",
              "    [theme=dark] .colab-df-convert:hover {\n",
              "      background-color: #434B5C;\n",
              "      box-shadow: 0px 1px 3px 1px rgba(0, 0, 0, 0.15);\n",
              "      filter: drop-shadow(0px 1px 2px rgba(0, 0, 0, 0.3));\n",
              "      fill: #FFFFFF;\n",
              "    }\n",
              "  </style>\n",
              "\n",
              "      <script>\n",
              "        const buttonEl =\n",
              "          document.querySelector('#df-b63f5fa2-3b34-47a3-8f11-a880cbc23a2a button.colab-df-convert');\n",
              "        buttonEl.style.display =\n",
              "          google.colab.kernel.accessAllowed ? 'block' : 'none';\n",
              "\n",
              "        async function convertToInteractive(key) {\n",
              "          const element = document.querySelector('#df-b63f5fa2-3b34-47a3-8f11-a880cbc23a2a');\n",
              "          const dataTable =\n",
              "            await google.colab.kernel.invokeFunction('convertToInteractive',\n",
              "                                                     [key], {});\n",
              "          if (!dataTable) return;\n",
              "\n",
              "          const docLinkHtml = 'Like what you see? Visit the ' +\n",
              "            '<a target=\"_blank\" href=https://colab.research.google.com/notebooks/data_table.ipynb>data table notebook</a>'\n",
              "            + ' to learn more about interactive tables.';\n",
              "          element.innerHTML = '';\n",
              "          dataTable['output_type'] = 'display_data';\n",
              "          await google.colab.output.renderOutput(dataTable, element);\n",
              "          const docLink = document.createElement('div');\n",
              "          docLink.innerHTML = docLinkHtml;\n",
              "          element.appendChild(docLink);\n",
              "        }\n",
              "      </script>\n",
              "    </div>\n",
              "  </div>\n",
              "  "
            ]
          },
          "metadata": {},
          "execution_count": 206
        }
      ]
    }
  ]
}